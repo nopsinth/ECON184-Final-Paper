{
 "cells": [
  {
   "cell_type": "code",
   "execution_count": 27,
   "metadata": {},
   "outputs": [],
   "source": [
    "import pandas as pd\n",
    "import numpy as np\n",
    "import matplotlib.pyplot as plt"
   ]
  },
  {
   "cell_type": "code",
   "execution_count": 28,
   "metadata": {},
   "outputs": [],
   "source": [
    "df = pd.read_csv(\"df_q_roe.csv\")"
   ]
  },
  {
   "cell_type": "code",
   "execution_count": 29,
   "metadata": {},
   "outputs": [],
   "source": [
    "df.drop(df.columns[1], axis=1, inplace=True)"
   ]
  },
  {
   "cell_type": "code",
   "execution_count": 30,
   "metadata": {},
   "outputs": [],
   "source": [
    "dfval = df.fillna(-1).values\n",
    "num_row = dfval.shape[0]\n",
    "top_50s = []\n",
    "bottom_50s = []\n",
    "market_300 = []\n",
    "\n",
    "for date in range(2, dfval.shape[1]):\n",
    "\n",
    "    col = dfval[:, [0,date]]\n",
    "    num_nan = np.sum(col[:,1] < 0)\n",
    "    sorted_x = np.array(sorted(list(col), key=lambda x: -x[1]))\n",
    "    \n",
    "    top_50s.append(np.array(sorted_x[:100])[:,0])\n",
    "    bottom_50s.append(np.array(sorted_x[num_row-num_nan-100:num_row-num_nan])[:,0])\n",
    "    market_300.append(np.array(sorted_x[:330])[:,0])"
   ]
  },
  {
   "cell_type": "code",
   "execution_count": 31,
   "metadata": {},
   "outputs": [],
   "source": [
    "dates = [x[:-7] + x[-4:] for x in df.columns.values[3:]]\n",
    "tops = np.array(top_50s)\n",
    "bottoms = np.array(bottom_50s)\n",
    "markets = np.array(market_300)"
   ]
  },
  {
   "cell_type": "code",
   "execution_count": 32,
   "metadata": {},
   "outputs": [
    {
     "data": {
      "text/plain": [
       "array(['ABBV US  EQUITY', 'AZO US  EQUITY', 'BA US  EQUITY',\n",
       "       'CL US  EQUITY', 'HD US  EQUITY', 'KMB US  EQUITY',\n",
       "       'KLAC US  EQUITY', 'LB US  EQUITY', 'LMT US  EQUITY',\n",
       "       'MAS US  EQUITY', 'MA US  EQUITY', 'MCO US  EQUITY',\n",
       "       'ORLY US  EQUITY', 'PM US  EQUITY', 'SPGI US  EQUITY',\n",
       "       'STX US  EQUITY', 'SEE US  EQUITY', 'SBUX US  EQUITY',\n",
       "       'CLX US  EQUITY', 'HSY US  EQUITY', 'UPS US  EQUITY',\n",
       "       'VRSN US  EQUITY', 'WYN US  EQUITY', 'YUM US  EQUITY',\n",
       "       'PEP US  EQUITY', 'MTD US  EQUITY', 'MCD US  EQUITY',\n",
       "       'ALLE US  EQUITY', 'CBS US  EQUITY', 'IDXX US  EQUITY',\n",
       "       'NKTR US  EQUITY', 'CTXS US  EQUITY', 'INTU US  EQUITY',\n",
       "       'SPG US  EQUITY', 'HLT US  EQUITY', 'HBI US  EQUITY',\n",
       "       'SYY US  EQUITY', 'LOW US  EQUITY', 'ITW US  EQUITY',\n",
       "       'VRTX US  EQUITY', 'TJX US  EQUITY', 'CELG US  EQUITY',\n",
       "       'NVDA US  EQUITY', 'TXN US  EQUITY', 'ZTS US  EQUITY',\n",
       "       'WYNN US  EQUITY', 'K US  EQUITY', 'FTV US  EQUITY',\n",
       "       'FOXA US  EQUITY', 'FOX US  EQUITY', 'KR US  EQUITY',\n",
       "       'ROST US  EQUITY', 'MU US  EQUITY', 'AVGO US  EQUITY',\n",
       "       'AAL US  EQUITY', 'OMC US  EQUITY', 'HII US  EQUITY',\n",
       "       'IBM US  EQUITY', 'MMM US  EQUITY', 'ROK US  EQUITY',\n",
       "       'MAR US  EQUITY', 'LYB US  EQUITY', 'LRCX US  EQUITY',\n",
       "       'FISV US  EQUITY', 'MO US  EQUITY', 'AAPL US  EQUITY',\n",
       "       'ADS US  EQUITY', 'JWN US  EQUITY', 'AMGN US  EQUITY',\n",
       "       'CAT US  EQUITY', 'PAYX US  EQUITY', 'CHRW US  EQUITY',\n",
       "       'AES US  EQUITY', 'AIV US  EQUITY', 'NOC US  EQUITY',\n",
       "       'ADP US  EQUITY', 'AMAT US  EQUITY', 'GWW US  EQUITY',\n",
       "       'HRB US  EQUITY', 'ABC US  EQUITY', 'RHI US  EQUITY',\n",
       "       'BKNG US  EQUITY', 'MSFT US  EQUITY', 'HON US  EQUITY',\n",
       "       'ACN US  EQUITY', 'BMY US  EQUITY', 'V US  EQUITY',\n",
       "       'KO US  EQUITY', 'ULTA US  EQUITY', 'FFIV US  EQUITY',\n",
       "       'CNP US  EQUITY', 'EL US  EQUITY', 'AMP US  EQUITY',\n",
       "       'AMD US  EQUITY', 'TSCO US  EQUITY', 'EBAY US  EQUITY',\n",
       "       'PKG US  EQUITY', 'BIIB US  EQUITY', 'FAST US  EQUITY',\n",
       "       'M US  EQUITY'], dtype=object)"
      ]
     },
     "execution_count": 32,
     "metadata": {},
     "output_type": "execute_result"
    }
   ],
   "source": [
    "tops[len(dates)]"
   ]
  },
  {
   "cell_type": "code",
   "execution_count": 33,
   "metadata": {},
   "outputs": [
    {
     "data": {
      "text/plain": [
       "array(['WRK US  EQUITY', 'PRU US  EQUITY', 'MCHP US  EQUITY',\n",
       "       'CB US  EQUITY', 'GLW US  EQUITY', 'NLSN US  EQUITY',\n",
       "       'ABT US  EQUITY', 'PBCT US  EQUITY', 'WDC US  EQUITY',\n",
       "       'LUK US  EQUITY', 'FLS US  EQUITY', 'FLR US  EQUITY',\n",
       "       'UDR US  EQUITY', 'FLIR US  EQUITY', 'WMT US  EQUITY',\n",
       "       'WLTW US  EQUITY', 'CRM US  EQUITY', 'GGP US  EQUITY',\n",
       "       'XRX US  EQUITY', 'INFO US  EQUITY', 'DISCA US  EQUITY',\n",
       "       'DISCK US  EQUITY', 'A US  EQUITY', 'SRE US  EQUITY',\n",
       "       'AMG US  EQUITY', 'MGM US  EQUITY', 'EQR US  EQUITY',\n",
       "       'MLM US  EQUITY', 'APC US  EQUITY', 'DUK US  EQUITY',\n",
       "       'ESS US  EQUITY', 'INCY US  EQUITY', 'SLB US  EQUITY',\n",
       "       'UNM US  EQUITY', 'ARE US  EQUITY', 'WELL US  EQUITY',\n",
       "       'DPS US  EQUITY', 'CCI US  EQUITY', 'AIZ US  EQUITY',\n",
       "       'EQIX US  EQUITY', 'JEC US  EQUITY', 'BDX US  EQUITY',\n",
       "       'O US  EQUITY', 'KMI US  EQUITY', 'MDT US  EQUITY',\n",
       "       'COO US  EQUITY', 'SLG US  EQUITY', 'DWDP US  EQUITY',\n",
       "       'VTR US  EQUITY', 'REG US  EQUITY', 'DVA US  EQUITY',\n",
       "       'EIX US  EQUITY', 'CINF US  EQUITY', 'MAA US  EQUITY',\n",
       "       'IQV US  EQUITY', 'L US  EQUITY', 'CHTR US  EQUITY',\n",
       "       'NEM US  EQUITY', 'DLR US  EQUITY', 'CSCO US  EQUITY',\n",
       "       'JNJ US  EQUITY', 'HAL US  EQUITY', 'MAC US  EQUITY',\n",
       "       'RE US  EQUITY', 'QRVO US  EQUITY', 'BHGE US  EQUITY',\n",
       "       'PCG US  EQUITY', 'APA US  EQUITY', 'HP US  EQUITY',\n",
       "       'AIG US  EQUITY', 'NOV US  EQUITY', 'CAH US  EQUITY',\n",
       "       'NBL US  EQUITY', 'CVS US  EQUITY', 'WMB US  EQUITY',\n",
       "       'NI US  EQUITY', 'AGN US  EQUITY', 'ADSK US  EQUITY',\n",
       "       'COTY US  EQUITY', 'XRAY US  EQUITY', 'EQT US  EQUITY',\n",
       "       'GE US  EQUITY', 'HES US  EQUITY', 'HOLX US  EQUITY',\n",
       "       'KHC US  EQUITY', 'MAT US  EQUITY', 'MCK US  EQUITY',\n",
       "       'NWL US  EQUITY', 'NWSA US  EQUITY', 'NWS US  EQUITY',\n",
       "       'NRG US  EQUITY', 'RRC US  EQUITY', 'SBAC US  EQUITY',\n",
       "       'SCG US  EQUITY', 'SRCL US  EQUITY', 'FTI US  EQUITY',\n",
       "       'UAA US  EQUITY', 'UA US  EQUITY', 'WHR US  EQUITY',\n",
       "       'ZBH US  EQUITY'], dtype=object)"
      ]
     },
     "execution_count": 33,
     "metadata": {},
     "output_type": "execute_result"
    }
   ],
   "source": [
    "bottoms[len(dates)]"
   ]
  },
  {
   "cell_type": "markdown",
   "metadata": {},
   "source": [
    "Post Financial Crisis: 2010 - 2018"
   ]
  },
  {
   "cell_type": "code",
   "execution_count": 34,
   "metadata": {},
   "outputs": [],
   "source": [
    "df_pe = pd.read_csv('spy_pe.csv')"
   ]
  },
  {
   "cell_type": "code",
   "execution_count": 35,
   "metadata": {},
   "outputs": [],
   "source": [
    "df_tot_return = pd.read_csv('spy_total_return_indx.csv')\n",
    "mkt_cap = pd.read_csv('spy_market_cap_more.csv')\n",
    "df_pb = pd.read_csv('mod_spy_pb.csv')"
   ]
  },
  {
   "cell_type": "code",
   "execution_count": 36,
   "metadata": {},
   "outputs": [],
   "source": [
    "#df_tot_return = pd.read_csv('mod_total_return.csv')"
   ]
  },
  {
   "cell_type": "code",
   "execution_count": 37,
   "metadata": {},
   "outputs": [],
   "source": [
    "new_dates = mkt_cap.columns.values\n",
    "mkt_cap = mkt_cap.rename(index=str, columns={x:x[:-7]+x[-4:] for x in new_dates})\n",
    "df_pb = df_pb.rename(index=str, columns={x:x[:-7]+x[-4:] for x in new_dates})\n",
    "df_pe = df_pe.rename(index=str, columns={x:x[:-7]+x[-4:] for x in new_dates})"
   ]
  },
  {
   "cell_type": "code",
   "execution_count": 38,
   "metadata": {},
   "outputs": [],
   "source": [
    "df_tot_return = df_tot_return.rename(index=str, columns={x:x[:-7]+x[-4:] for x in new_dates})"
   ]
  },
  {
   "cell_type": "code",
   "execution_count": 39,
   "metadata": {},
   "outputs": [],
   "source": [
    "df_pe = df_pe.rename(index=str, columns={x:x[:-7]+x[-4:] for x in new_dates})"
   ]
  },
  {
   "cell_type": "code",
   "execution_count": 40,
   "metadata": {},
   "outputs": [],
   "source": [
    "result_top = []\n",
    "result_bottom = []\n",
    "result_market = []\n",
    "result_topPB = []\n",
    "result_bottomPB = []\n",
    "result_topPE = []\n",
    "result_bottomPE = []\n",
    "\n",
    "for i in range(len(dates) - 36, len(dates)):\n",
    "    returns = df_tot_return.rename(index=str, columns={'Unnd: 0':'stock'}).set_index('stock').loc[tops[i]][dates[i]]\n",
    "    percent = mkt_cap.rename(index=str, columns={'Unnd: 0':'stock'}).set_index('stock').loc[tops[i]][dates[i]]\n",
    "    result_top.append((returns * percent / percent.sum()).sum())    \n"
   ]
  },
  {
   "cell_type": "code",
   "execution_count": 41,
   "metadata": {},
   "outputs": [
    {
     "data": {
      "text/plain": [
       "'3/2010'"
      ]
     },
     "execution_count": 41,
     "metadata": {},
     "output_type": "execute_result"
    }
   ],
   "source": [
    "dates[len(dates) - 36]"
   ]
  },
  {
   "cell_type": "code",
   "execution_count": 42,
   "metadata": {},
   "outputs": [
    {
     "data": {
      "text/plain": [
       "<matplotlib.legend.Legend at 0x7f4be58297f0>"
      ]
     },
     "execution_count": 42,
     "metadata": {},
     "output_type": "execute_result"
    },
    {
     "data": {
      "image/png": "[encoded data removed]",
      "text/plain": [
       "<Figure size 432x288 with 1 Axes>"
      ]
     },
     "metadata": {
      "needs_background": "light"
     },
     "output_type": "display_data"
    }
   ],
   "source": [
    "for i in range(len(dates) - 36, len(dates)):\n",
    "    returns = df_tot_return.rename(index=str, columns={'Unnd: 0':'stock'}).set_index('stock').loc[bottoms[i]][dates[i]]\n",
    "    percent = mkt_cap.rename(index=str, columns={'Unnd: 0':'stock'}).set_index('stock').loc[bottoms[i]][dates[i]]\n",
    "    result_bottom.append((returns * percent / percent.sum()).sum())\n",
    "    \n",
    "for i in range(len(dates) - 36, len(dates)):\n",
    "    returns = df_tot_return.rename(index=str, columns={'Unnd: 0':'stock'}).set_index('stock').loc[markets[i]][dates[i]]\n",
    "    percent = mkt_cap.rename(index=str, columns={'Unnd: 0':'stock'}).set_index('stock').loc[markets[i]][dates[i]]\n",
    "    result_market.append((returns * percent / percent.sum()).sum())\n",
    "\n",
    "for i in range(len(result_top)):\n",
    "    denominator = result_top[0]\n",
    "    result_top[:] = result_top[:]/denominator\n",
    "    \n",
    "for i in range(len(result_market)):\n",
    "    denominator = result_market[0]\n",
    "    result_market[:] = result_market[:]/denominator\n",
    "    \n",
    "for i in range(len(result_bottom)):\n",
    "    denominator = result_bottom[0]\n",
    "    result_bottom[:] = result_bottom[:]/denominator\n",
    "\n",
    "plt.plot(result_top, label='Quality')\n",
    "plt.plot(result_bottom, label='Junk')\n",
    "plt.plot(result_market, label='Market', marker = '', color = 'olive', linewidth=2, linestyle='dashed')\n",
    "plt.legend()"
   ]
  },
  {
   "cell_type": "code",
   "execution_count": 43,
   "metadata": {},
   "outputs": [],
   "source": [
    "result_18 = pd.DataFrame({'Quality':result_top[:],'Market':result_market[:], 'Junk':result_bottom[:]})"
   ]
  },
  {
   "cell_type": "code",
   "execution_count": 44,
   "metadata": {},
   "outputs": [],
   "source": [
    "result_18.to_csv('result_18_roe.csv')"
   ]
  },
  {
   "cell_type": "code",
   "execution_count": 45,
   "metadata": {},
   "outputs": [
    {
     "ename": "KeyError",
     "evalue": "\"None of [['ACN US  EQUITY' 'AMD US  EQUITY' 'ALXN US  EQUITY' 'MO US  EQUITY'\\n 'AZO US  EQUITY' 'HRB US  EQUITY' 'BA US  EQUITY' 'BMY US  EQUITY'\\n 'CPB US  EQUITY' 'CL US  EQUITY' 'FCX US  EQUITY' 'IT US  EQUITY'\\n 'GILD US  EQUITY' 'IBM US  EQUITY' 'K US  EQUITY' 'LLY US  EQUITY'\\n 'LMT US  EQUITY' 'MA US  EQUITY' 'MCO US  EQUITY' 'PM US  EQUITY'\\n 'HSY US  EQUITY' 'WU US  EQUITY' 'YUM US  EQUITY' 'VRSN US  EQUITY'\\n 'BKNG US  EQUITY' 'SPGI US  EQUITY' 'WAT US  EQUITY' 'NFLX US  EQUITY'\\n 'TJX US  EQUITY' 'MSFT US  EQUITY' 'PEP US  EQUITY' 'MNST US  EQUITY'\\n 'KMB US  EQUITY' 'FTI US  EQUITY' 'COL US  EQUITY' 'CLX US  EQUITY'\\n 'TPR US  EQUITY' 'ROST US  EQUITY' 'PAYX US  EQUITY' 'ESRX US  EQUITY'\\n 'ADS US  EQUITY' 'PKG US  EQUITY' 'WRK US  EQUITY' 'MCD US  EQUITY'\\n 'MRK US  EQUITY' 'CHRW US  EQUITY' 'BAX US  EQUITY' 'SHW US  EQUITY'\\n 'AAPL US  EQUITY' 'SYY US  EQUITY' 'IPGP US  EQUITY' 'KO US  EQUITY'\\n 'UPS US  EQUITY' 'IFF US  EQUITY' 'BLL US  EQUITY' 'CI US  EQUITY'\\n 'GIS US  EQUITY' 'LH US  EQUITY' 'MTD US  EQUITY' 'ABT US  EQUITY'\\n 'MMM US  EQUITY' 'VAR US  EQUITY' 'GRMN US  EQUITY' 'FLS US  EQUITY'\\n 'PX US  EQUITY' 'WDC US  EQUITY' 'JNJ US  EQUITY' 'JWN US  EQUITY'\\n 'IDXX US  EQUITY' 'ADP US  EQUITY' 'HAS US  EQUITY' 'MKC US  EQUITY'\\n 'DRI US  EQUITY' 'BDX US  EQUITY' 'DLTR US  EQUITY' 'CF US  EQUITY'\\n 'ECL US  EQUITY' 'JBHT US  EQUITY' 'SRCL US  EQUITY' 'CTSH US  EQUITY'\\n 'FMC US  EQUITY' 'ORCL US  EQUITY' 'MAT US  EQUITY' 'FLR US  EQUITY'\\n 'AMZN US  EQUITY' 'EW US  EQUITY' 'FLIR US  EQUITY' 'EL US  EQUITY'\\n 'TDG US  EQUITY' 'AAP US  EQUITY' 'BBY US  EQUITY' 'GS US  EQUITY'\\n 'WLTW US  EQUITY' 'DVA US  EQUITY' 'UTX US  EQUITY' 'GPS US  EQUITY'\\n 'GD US  EQUITY' 'PGR US  EQUITY' 'AMGN US  EQUITY' 'VIAB US  EQUITY']] are in the [index]\"",
     "output_type": "error",
     "traceback": [
      "\u001b[0;31m---------------------------------------------------------------------------\u001b[0m",
      "\u001b[0;31mKeyError\u001b[0m                                  Traceback (most recent call last)",
      "\u001b[0;32m<ipython-input-45-14048abfc98b>\u001b[0m in \u001b[0;36m<module>\u001b[0;34m()\u001b[0m\n\u001b[1;32m      1\u001b[0m \u001b[0;32mfor\u001b[0m \u001b[0mi\u001b[0m \u001b[0;32min\u001b[0m \u001b[0mrange\u001b[0m\u001b[0;34m(\u001b[0m\u001b[0mlen\u001b[0m\u001b[0;34m(\u001b[0m\u001b[0mdates\u001b[0m\u001b[0;34m)\u001b[0m\u001b[0;34m-\u001b[0m\u001b[0;36m36\u001b[0m\u001b[0;34m,\u001b[0m \u001b[0mlen\u001b[0m\u001b[0;34m(\u001b[0m\u001b[0mdates\u001b[0m\u001b[0;34m)\u001b[0m\u001b[0;34m)\u001b[0m\u001b[0;34m:\u001b[0m\u001b[0;34m\u001b[0m\u001b[0m\n\u001b[0;32m----> 2\u001b[0;31m     \u001b[0mPB\u001b[0m \u001b[0;34m=\u001b[0m \u001b[0mdf_pb\u001b[0m\u001b[0;34m.\u001b[0m\u001b[0mrename\u001b[0m\u001b[0;34m(\u001b[0m\u001b[0mindex\u001b[0m\u001b[0;34m=\u001b[0m\u001b[0mstr\u001b[0m\u001b[0;34m,\u001b[0m \u001b[0mcolumns\u001b[0m\u001b[0;34m=\u001b[0m\u001b[0;34m{\u001b[0m\u001b[0;34m'Unnd: 0'\u001b[0m\u001b[0;34m:\u001b[0m\u001b[0;34m'stock'\u001b[0m\u001b[0;34m}\u001b[0m\u001b[0;34m)\u001b[0m\u001b[0;34m.\u001b[0m\u001b[0mset_index\u001b[0m\u001b[0;34m(\u001b[0m\u001b[0;34m'stock'\u001b[0m\u001b[0;34m)\u001b[0m\u001b[0;34m.\u001b[0m\u001b[0mloc\u001b[0m\u001b[0;34m[\u001b[0m\u001b[0mtops\u001b[0m\u001b[0;34m[\u001b[0m\u001b[0mi\u001b[0m\u001b[0;34m]\u001b[0m\u001b[0;34m]\u001b[0m\u001b[0;34m[\u001b[0m\u001b[0mdates\u001b[0m\u001b[0;34m[\u001b[0m\u001b[0mi\u001b[0m\u001b[0;34m]\u001b[0m\u001b[0;34m]\u001b[0m\u001b[0;34m\u001b[0m\u001b[0m\n\u001b[0m\u001b[1;32m      3\u001b[0m     \u001b[0mpercent\u001b[0m \u001b[0;34m=\u001b[0m \u001b[0mmkt_cap\u001b[0m\u001b[0;34m.\u001b[0m\u001b[0mrename\u001b[0m\u001b[0;34m(\u001b[0m\u001b[0mindex\u001b[0m\u001b[0;34m=\u001b[0m\u001b[0mstr\u001b[0m\u001b[0;34m,\u001b[0m \u001b[0mcolumns\u001b[0m\u001b[0;34m=\u001b[0m\u001b[0;34m{\u001b[0m\u001b[0;34m'Unnd: 0'\u001b[0m\u001b[0;34m:\u001b[0m\u001b[0;34m'stock'\u001b[0m\u001b[0;34m}\u001b[0m\u001b[0;34m)\u001b[0m\u001b[0;34m.\u001b[0m\u001b[0mset_index\u001b[0m\u001b[0;34m(\u001b[0m\u001b[0;34m'stock'\u001b[0m\u001b[0;34m)\u001b[0m\u001b[0;34m.\u001b[0m\u001b[0mloc\u001b[0m\u001b[0;34m[\u001b[0m\u001b[0mtops\u001b[0m\u001b[0;34m[\u001b[0m\u001b[0mi\u001b[0m\u001b[0;34m]\u001b[0m\u001b[0;34m]\u001b[0m\u001b[0;34m[\u001b[0m\u001b[0mdates\u001b[0m\u001b[0;34m[\u001b[0m\u001b[0mi\u001b[0m\u001b[0;34m]\u001b[0m\u001b[0;34m]\u001b[0m\u001b[0;34m\u001b[0m\u001b[0m\n\u001b[1;32m      4\u001b[0m     \u001b[0mresult_topPB\u001b[0m\u001b[0;34m.\u001b[0m\u001b[0mappend\u001b[0m\u001b[0;34m(\u001b[0m\u001b[0;34m(\u001b[0m\u001b[0mPB\u001b[0m \u001b[0;34m*\u001b[0m \u001b[0mpercent\u001b[0m \u001b[0;34m/\u001b[0m \u001b[0mpercent\u001b[0m\u001b[0;34m.\u001b[0m\u001b[0msum\u001b[0m\u001b[0;34m(\u001b[0m\u001b[0;34m)\u001b[0m\u001b[0;34m)\u001b[0m\u001b[0;34m.\u001b[0m\u001b[0msum\u001b[0m\u001b[0;34m(\u001b[0m\u001b[0;34m)\u001b[0m\u001b[0;34m)\u001b[0m\u001b[0;34m\u001b[0m\u001b[0m\n\u001b[1;32m      5\u001b[0m \u001b[0;34m\u001b[0m\u001b[0m\n",
      "\u001b[0;32m/opt/conda/lib/python3.5/site-packages/pandas/core/indexing.py\u001b[0m in \u001b[0;36m__getitem__\u001b[0;34m(self, key)\u001b[0m\n\u001b[1;32m   1476\u001b[0m \u001b[0;34m\u001b[0m\u001b[0m\n\u001b[1;32m   1477\u001b[0m             \u001b[0mmaybe_callable\u001b[0m \u001b[0;34m=\u001b[0m \u001b[0mcom\u001b[0m\u001b[0;34m.\u001b[0m\u001b[0m_apply_if_callable\u001b[0m\u001b[0;34m(\u001b[0m\u001b[0mkey\u001b[0m\u001b[0;34m,\u001b[0m \u001b[0mself\u001b[0m\u001b[0;34m.\u001b[0m\u001b[0mobj\u001b[0m\u001b[0;34m)\u001b[0m\u001b[0;34m\u001b[0m\u001b[0m\n\u001b[0;32m-> 1478\u001b[0;31m             \u001b[0;32mreturn\u001b[0m \u001b[0mself\u001b[0m\u001b[0;34m.\u001b[0m\u001b[0m_getitem_axis\u001b[0m\u001b[0;34m(\u001b[0m\u001b[0mmaybe_callable\u001b[0m\u001b[0;34m,\u001b[0m \u001b[0maxis\u001b[0m\u001b[0;34m=\u001b[0m\u001b[0maxis\u001b[0m\u001b[0;34m)\u001b[0m\u001b[0;34m\u001b[0m\u001b[0m\n\u001b[0m\u001b[1;32m   1479\u001b[0m \u001b[0;34m\u001b[0m\u001b[0m\n\u001b[1;32m   1480\u001b[0m     \u001b[0;32mdef\u001b[0m \u001b[0m_is_scalar_access\u001b[0m\u001b[0;34m(\u001b[0m\u001b[0mself\u001b[0m\u001b[0;34m,\u001b[0m \u001b[0mkey\u001b[0m\u001b[0;34m)\u001b[0m\u001b[0;34m:\u001b[0m\u001b[0;34m\u001b[0m\u001b[0m\n",
      "\u001b[0;32m/opt/conda/lib/python3.5/site-packages/pandas/core/indexing.py\u001b[0m in \u001b[0;36m_getitem_axis\u001b[0;34m(self, key, axis)\u001b[0m\n\u001b[1;32m   1899\u001b[0m                     \u001b[0;32mraise\u001b[0m \u001b[0mValueError\u001b[0m\u001b[0;34m(\u001b[0m\u001b[0;34m'Cannot index with multidimensional key'\u001b[0m\u001b[0;34m)\u001b[0m\u001b[0;34m\u001b[0m\u001b[0m\n\u001b[1;32m   1900\u001b[0m \u001b[0;34m\u001b[0m\u001b[0m\n\u001b[0;32m-> 1901\u001b[0;31m                 \u001b[0;32mreturn\u001b[0m \u001b[0mself\u001b[0m\u001b[0;34m.\u001b[0m\u001b[0m_getitem_iterable\u001b[0m\u001b[0;34m(\u001b[0m\u001b[0mkey\u001b[0m\u001b[0;34m,\u001b[0m \u001b[0maxis\u001b[0m\u001b[0;34m=\u001b[0m\u001b[0maxis\u001b[0m\u001b[0;34m)\u001b[0m\u001b[0;34m\u001b[0m\u001b[0m\n\u001b[0m\u001b[1;32m   1902\u001b[0m \u001b[0;34m\u001b[0m\u001b[0m\n\u001b[1;32m   1903\u001b[0m             \u001b[0;31m# nested tuple slicing\u001b[0m\u001b[0;34m\u001b[0m\u001b[0;34m\u001b[0m\u001b[0m\n",
      "\u001b[0;32m/opt/conda/lib/python3.5/site-packages/pandas/core/indexing.py\u001b[0m in \u001b[0;36m_getitem_iterable\u001b[0;34m(self, key, axis)\u001b[0m\n\u001b[1;32m   1141\u001b[0m             \u001b[0;32mif\u001b[0m \u001b[0mlabels\u001b[0m\u001b[0;34m.\u001b[0m\u001b[0mis_unique\u001b[0m \u001b[0;32mand\u001b[0m \u001b[0mIndex\u001b[0m\u001b[0;34m(\u001b[0m\u001b[0mkeyarr\u001b[0m\u001b[0;34m)\u001b[0m\u001b[0;34m.\u001b[0m\u001b[0mis_unique\u001b[0m\u001b[0;34m:\u001b[0m\u001b[0;34m\u001b[0m\u001b[0m\n\u001b[1;32m   1142\u001b[0m                 \u001b[0mindexer\u001b[0m \u001b[0;34m=\u001b[0m \u001b[0max\u001b[0m\u001b[0;34m.\u001b[0m\u001b[0mget_indexer_for\u001b[0m\u001b[0;34m(\u001b[0m\u001b[0mkey\u001b[0m\u001b[0;34m)\u001b[0m\u001b[0;34m\u001b[0m\u001b[0m\n\u001b[0;32m-> 1143\u001b[0;31m                 \u001b[0mself\u001b[0m\u001b[0;34m.\u001b[0m\u001b[0m_validate_read_indexer\u001b[0m\u001b[0;34m(\u001b[0m\u001b[0mkey\u001b[0m\u001b[0;34m,\u001b[0m \u001b[0mindexer\u001b[0m\u001b[0;34m,\u001b[0m \u001b[0maxis\u001b[0m\u001b[0;34m)\u001b[0m\u001b[0;34m\u001b[0m\u001b[0m\n\u001b[0m\u001b[1;32m   1144\u001b[0m \u001b[0;34m\u001b[0m\u001b[0m\n\u001b[1;32m   1145\u001b[0m                 \u001b[0md\u001b[0m \u001b[0;34m=\u001b[0m \u001b[0;34m{\u001b[0m\u001b[0maxis\u001b[0m\u001b[0;34m:\u001b[0m \u001b[0;34m[\u001b[0m\u001b[0max\u001b[0m\u001b[0;34m.\u001b[0m\u001b[0mreindex\u001b[0m\u001b[0;34m(\u001b[0m\u001b[0mkeyarr\u001b[0m\u001b[0;34m)\u001b[0m\u001b[0;34m[\u001b[0m\u001b[0;36m0\u001b[0m\u001b[0;34m]\u001b[0m\u001b[0;34m,\u001b[0m \u001b[0mindexer\u001b[0m\u001b[0;34m]\u001b[0m\u001b[0;34m}\u001b[0m\u001b[0;34m\u001b[0m\u001b[0m\n",
      "\u001b[0;32m/opt/conda/lib/python3.5/site-packages/pandas/core/indexing.py\u001b[0m in \u001b[0;36m_validate_read_indexer\u001b[0;34m(self, key, indexer, axis)\u001b[0m\n\u001b[1;32m   1204\u001b[0m                 raise KeyError(\n\u001b[1;32m   1205\u001b[0m                     u\"None of [{key}] are in the [{axis}]\".format(\n\u001b[0;32m-> 1206\u001b[0;31m                         key=key, axis=self.obj._get_axis_name(axis)))\n\u001b[0m\u001b[1;32m   1207\u001b[0m \u001b[0;34m\u001b[0m\u001b[0m\n\u001b[1;32m   1208\u001b[0m             \u001b[0;31m# we skip the warning on Categorical/Interval\u001b[0m\u001b[0;34m\u001b[0m\u001b[0;34m\u001b[0m\u001b[0m\n",
      "\u001b[0;31mKeyError\u001b[0m: \"None of [['ACN US  EQUITY' 'AMD US  EQUITY' 'ALXN US  EQUITY' 'MO US  EQUITY'\\n 'AZO US  EQUITY' 'HRB US  EQUITY' 'BA US  EQUITY' 'BMY US  EQUITY'\\n 'CPB US  EQUITY' 'CL US  EQUITY' 'FCX US  EQUITY' 'IT US  EQUITY'\\n 'GILD US  EQUITY' 'IBM US  EQUITY' 'K US  EQUITY' 'LLY US  EQUITY'\\n 'LMT US  EQUITY' 'MA US  EQUITY' 'MCO US  EQUITY' 'PM US  EQUITY'\\n 'HSY US  EQUITY' 'WU US  EQUITY' 'YUM US  EQUITY' 'VRSN US  EQUITY'\\n 'BKNG US  EQUITY' 'SPGI US  EQUITY' 'WAT US  EQUITY' 'NFLX US  EQUITY'\\n 'TJX US  EQUITY' 'MSFT US  EQUITY' 'PEP US  EQUITY' 'MNST US  EQUITY'\\n 'KMB US  EQUITY' 'FTI US  EQUITY' 'COL US  EQUITY' 'CLX US  EQUITY'\\n 'TPR US  EQUITY' 'ROST US  EQUITY' 'PAYX US  EQUITY' 'ESRX US  EQUITY'\\n 'ADS US  EQUITY' 'PKG US  EQUITY' 'WRK US  EQUITY' 'MCD US  EQUITY'\\n 'MRK US  EQUITY' 'CHRW US  EQUITY' 'BAX US  EQUITY' 'SHW US  EQUITY'\\n 'AAPL US  EQUITY' 'SYY US  EQUITY' 'IPGP US  EQUITY' 'KO US  EQUITY'\\n 'UPS US  EQUITY' 'IFF US  EQUITY' 'BLL US  EQUITY' 'CI US  EQUITY'\\n 'GIS US  EQUITY' 'LH US  EQUITY' 'MTD US  EQUITY' 'ABT US  EQUITY'\\n 'MMM US  EQUITY' 'VAR US  EQUITY' 'GRMN US  EQUITY' 'FLS US  EQUITY'\\n 'PX US  EQUITY' 'WDC US  EQUITY' 'JNJ US  EQUITY' 'JWN US  EQUITY'\\n 'IDXX US  EQUITY' 'ADP US  EQUITY' 'HAS US  EQUITY' 'MKC US  EQUITY'\\n 'DRI US  EQUITY' 'BDX US  EQUITY' 'DLTR US  EQUITY' 'CF US  EQUITY'\\n 'ECL US  EQUITY' 'JBHT US  EQUITY' 'SRCL US  EQUITY' 'CTSH US  EQUITY'\\n 'FMC US  EQUITY' 'ORCL US  EQUITY' 'MAT US  EQUITY' 'FLR US  EQUITY'\\n 'AMZN US  EQUITY' 'EW US  EQUITY' 'FLIR US  EQUITY' 'EL US  EQUITY'\\n 'TDG US  EQUITY' 'AAP US  EQUITY' 'BBY US  EQUITY' 'GS US  EQUITY'\\n 'WLTW US  EQUITY' 'DVA US  EQUITY' 'UTX US  EQUITY' 'GPS US  EQUITY'\\n 'GD US  EQUITY' 'PGR US  EQUITY' 'AMGN US  EQUITY' 'VIAB US  EQUITY']] are in the [index]\""
     ]
    }
   ],
   "source": [
    "for i in range(len(dates)-36, len(dates)):\n",
    "    PB = df_pb.rename(index=str, columns={'Unnd: 0':'stock'}).set_index('stock').loc[tops[i]][dates[i]]\n",
    "    percent = mkt_cap.rename(index=str, columns={'Unnd: 0':'stock'}).set_index('stock').loc[tops[i]][dates[i]]\n",
    "    result_topPB.append((PB * percent / percent.sum()).sum())\n",
    "    \n",
    "for i in range(len(dates)-36, len(dates)):\n",
    "    PB = df_pb.rename(index=str, columns={'Unnd: 0':'stock'}).set_index('stock').loc[bottoms[i]][dates[i]]\n",
    "    percent = mkt_cap.rename(index=str, columns={'Unnd: 0':'stock'}).set_index('stock').loc[bottoms[i]][dates[i]]\n",
    "    result_bottomPB.append((PB * percent / percent.sum()).sum())"
   ]
  },
  {
   "cell_type": "code",
   "execution_count": null,
   "metadata": {},
   "outputs": [],
   "source": [
    "plt.plot(result_topPB, label='Quality')\n",
    "plt.plot(result_bottomPB, label='Junk')\n",
    "plt.legend()"
   ]
  },
  {
   "cell_type": "code",
   "execution_count": null,
   "metadata": {},
   "outputs": [],
   "source": [
    "for i in range(len(dates)-36, len(dates)):\n",
    "    PE = df_pe.rename(index=str, columns={'Unnd: 0':'stock'}).set_index('stock').loc[tops[i]][dates[i]]\n",
    "    result_topPE.append((PE).sum())\n",
    "    \n",
    "for i in range(len(dates)-36, len(dates)):\n",
    "    PE = df_pb.rename(index=str, columns={'Unnd: 0':'stock'}).set_index('stock').loc[bottoms[i]][dates[i]]\n",
    "    result_bottomPE.append((PE).sum())"
   ]
  },
  {
   "cell_type": "code",
   "execution_count": null,
   "metadata": {},
   "outputs": [],
   "source": [
    "plt.plot(result_topPE, label='Quality')\n",
    "plt.plot(result_bottomPE, label='Junk')\n",
    "plt.legend()"
   ]
  },
  {
   "cell_type": "markdown",
   "metadata": {},
   "source": [
    "2003-2009"
   ]
  },
  {
   "cell_type": "code",
   "execution_count": 46,
   "metadata": {},
   "outputs": [
    {
     "data": {
      "text/plain": [
       "'3/2003'"
      ]
     },
     "execution_count": 46,
     "metadata": {},
     "output_type": "execute_result"
    }
   ],
   "source": [
    "dates[len(dates) - 36]\n",
    "dates[len(dates) - 64]"
   ]
  },
  {
   "cell_type": "code",
   "execution_count": 47,
   "metadata": {},
   "outputs": [
    {
     "data": {
      "text/plain": [
       "<matplotlib.legend.Legend at 0x7f4be65414e0>"
      ]
     },
     "execution_count": 47,
     "metadata": {},
     "output_type": "execute_result"
    },
    {
     "data": {
      "image/png": "[encoded data removed]",
      "text/plain": [
       "<Figure size 432x288 with 1 Axes>"
      ]
     },
     "metadata": {
      "needs_background": "light"
     },
     "output_type": "display_data"
    }
   ],
   "source": [
    "result_top = []\n",
    "result_bottom = []\n",
    "result_market = []\n",
    "result_topPB = []\n",
    "result_bottomPB = []\n",
    "\n",
    "for i in range(len(dates) - 64, len(dates) - 36):\n",
    "    returns = df_tot_return.rename(index=str, columns={'Unnd: 0':'stock'}).set_index('stock').loc[tops[i]][dates[i]]\n",
    "    percent = mkt_cap.rename(index=str, columns={'Unnd: 0':'stock'}).set_index('stock').loc[tops[i]][dates[i]]\n",
    "    result_top.append((returns * percent / percent.sum()).sum())    \n",
    "\n",
    "for i in range(len(dates) - 64, len(dates) - 36):\n",
    "    returns = df_tot_return.rename(index=str, columns={'Unnd: 0':'stock'}).set_index('stock').loc[bottoms[i]][dates[i]]\n",
    "    percent = mkt_cap.rename(index=str, columns={'Unnd: 0':'stock'}).set_index('stock').loc[bottoms[i]][dates[i]]\n",
    "    result_bottom.append((returns * percent / percent.sum()).sum())\n",
    "    \n",
    "for i in range(len(dates) - 64, len(dates) - 36):\n",
    "    returns = df_tot_return.rename(index=str, columns={'Unnd: 0':'stock'}).set_index('stock').loc[markets[i]][dates[i]]\n",
    "    percent = mkt_cap.rename(index=str, columns={'Unnd: 0':'stock'}).set_index('stock').loc[markets[i]][dates[i]]\n",
    "    result_market.append((returns * percent / percent.sum()).sum())\n",
    "    \n",
    "for i in range(len(result_top)):\n",
    "    denominator = result_top[0]\n",
    "    result_top[:] = result_top[:]/denominator\n",
    "    \n",
    "for i in range(len(result_market)):\n",
    "    denominator = result_market[0]\n",
    "    result_market[:] = result_market[:]/denominator\n",
    "    \n",
    "for i in range(len(result_bottom)):\n",
    "    denominator = result_bottom[0]\n",
    "    result_bottom[:] = result_bottom[:]/denominator\n",
    "    \n",
    "plt.plot(result_top, label='Quality')\n",
    "plt.plot(result_bottom, label='Junk')\n",
    "plt.plot(result_market, label='Market', marker = '', color = 'olive', linewidth=2, linestyle='dashed')\n",
    "plt.legend()"
   ]
  },
  {
   "cell_type": "code",
   "execution_count": 48,
   "metadata": {},
   "outputs": [],
   "source": [
    "result_09 = pd.DataFrame({'top':result_top[:],'market':result_market[:], 'bottom':result_bottom[:]})\n",
    "result_09.to_csv('result_09_roe.csv')"
   ]
  },
  {
   "cell_type": "code",
   "execution_count": 21,
   "metadata": {},
   "outputs": [
    {
     "ename": "KeyError",
     "evalue": "\"None of [['ACN US  EQUITY' 'MO US  EQUITY' 'APH US  EQUITY' 'AZO US  EQUITY'\\n 'HRB US  EQUITY' 'CPB US  EQUITY' 'CL US  EQUITY' 'EFX US  EQUITY'\\n 'FCX US  EQUITY' 'K US  EQUITY' 'MRK US  EQUITY' 'ORCL US  EQUITY'\\n 'PEP US  EQUITY' 'PFE US  EQUITY' 'PG US  EQUITY' 'TPR US  EQUITY'\\n 'TJX US  EQUITY' 'VTR US  EQUITY' 'WDC US  EQUITY' 'YUM US  EQUITY'\\n 'ZBH US  EQUITY' 'LLY US  EQUITY' 'ROST US  EQUITY' 'MKC US  EQUITY'\\n 'KR US  EQUITY' 'MMM US  EQUITY' 'SYY US  EQUITY' 'UNH US  EQUITY'\\n 'DVA US  EQUITY' 'HSY US  EQUITY' 'IFF US  EQUITY' 'BLL US  EQUITY'\\n 'KMB US  EQUITY' 'PAYX US  EQUITY' 'CNC US  EQUITY' 'FLIR US  EQUITY'\\n 'ADBE US  EQUITY' 'CTL US  EQUITY' 'HOG US  EQUITY' 'AJG US  EQUITY'\\n 'CLX US  EQUITY' 'SPGI US  EQUITY' 'ABT US  EQUITY' 'LEN US  EQUITY'\\n 'UPS US  EQUITY' 'EIX US  EQUITY' 'JNJ US  EQUITY' 'KO US  EQUITY'\\n 'GRMN US  EQUITY' 'OMC US  EQUITY' 'WLTW US  EQUITY' 'CME US  EQUITY'\\n 'SYK US  EQUITY' 'MMC US  EQUITY' 'AVY US  EQUITY' 'UTX US  EQUITY'\\n 'CTSH US  EQUITY' 'TTWO US  EQUITY' 'CHRW US  EQUITY' 'EA US  EQUITY'\\n 'BMY US  EQUITY' 'EXPD US  EQUITY' 'DHI US  EQUITY' 'GE US  EQUITY'\\n 'BLK US  EQUITY' 'DG US  EQUITY' 'WAT US  EQUITY' 'STT US  EQUITY'\\n 'BAX US  EQUITY' 'RMD US  EQUITY' 'ANSS US  EQUITY' 'PX US  EQUITY'\\n 'TSS US  EQUITY' 'COF US  EQUITY' 'ADP US  EQUITY' 'BXP US  EQUITY'\\n 'MTD US  EQUITY' 'AME US  EQUITY' 'COL US  EQUITY' 'ESRX US  EQUITY'\\n 'DRI US  EQUITY' 'ECL US  EQUITY' 'VAR US  EQUITY' 'SRE US  EQUITY'\\n 'CHD US  EQUITY' 'WMT US  EQUITY' 'FMC US  EQUITY' 'DGX US  EQUITY'\\n 'KSS US  EQUITY' 'AXP US  EQUITY' 'DLTR US  EQUITY' 'XRAY US  EQUITY'\\n 'TGT US  EQUITY' 'SWK US  EQUITY' 'UHS US  EQUITY' 'FITB US  EQUITY'\\n 'BDX US  EQUITY' 'CAH US  EQUITY' 'MDT US  EQUITY' 'HD US  EQUITY']] are in the [index]\"",
     "output_type": "error",
     "traceback": [
      "\u001b[0;31m---------------------------------------------------------------------------\u001b[0m",
      "\u001b[0;31mKeyError\u001b[0m                                  Traceback (most recent call last)",
      "\u001b[0;32m<ipython-input-21-96cd279f9253>\u001b[0m in \u001b[0;36m<module>\u001b[0;34m()\u001b[0m\n\u001b[1;32m      1\u001b[0m \u001b[0;32mfor\u001b[0m \u001b[0mi\u001b[0m \u001b[0;32min\u001b[0m \u001b[0mrange\u001b[0m\u001b[0;34m(\u001b[0m\u001b[0mlen\u001b[0m\u001b[0;34m(\u001b[0m\u001b[0mdates\u001b[0m\u001b[0;34m)\u001b[0m \u001b[0;34m-\u001b[0m \u001b[0;36m64\u001b[0m\u001b[0;34m,\u001b[0m \u001b[0mlen\u001b[0m\u001b[0;34m(\u001b[0m\u001b[0mdates\u001b[0m\u001b[0;34m)\u001b[0m \u001b[0;34m-\u001b[0m \u001b[0;36m36\u001b[0m\u001b[0;34m)\u001b[0m\u001b[0;34m:\u001b[0m\u001b[0;34m\u001b[0m\u001b[0m\n\u001b[0;32m----> 2\u001b[0;31m     \u001b[0mPB\u001b[0m \u001b[0;34m=\u001b[0m \u001b[0mdf_pb\u001b[0m\u001b[0;34m.\u001b[0m\u001b[0mrename\u001b[0m\u001b[0;34m(\u001b[0m\u001b[0mindex\u001b[0m\u001b[0;34m=\u001b[0m\u001b[0mstr\u001b[0m\u001b[0;34m,\u001b[0m \u001b[0mcolumns\u001b[0m\u001b[0;34m=\u001b[0m\u001b[0;34m{\u001b[0m\u001b[0;34m'Unnd: 0'\u001b[0m\u001b[0;34m:\u001b[0m\u001b[0;34m'stock'\u001b[0m\u001b[0;34m}\u001b[0m\u001b[0;34m)\u001b[0m\u001b[0;34m.\u001b[0m\u001b[0mset_index\u001b[0m\u001b[0;34m(\u001b[0m\u001b[0;34m'stock'\u001b[0m\u001b[0;34m)\u001b[0m\u001b[0;34m.\u001b[0m\u001b[0mloc\u001b[0m\u001b[0;34m[\u001b[0m\u001b[0mtops\u001b[0m\u001b[0;34m[\u001b[0m\u001b[0mi\u001b[0m\u001b[0;34m]\u001b[0m\u001b[0;34m]\u001b[0m\u001b[0;34m[\u001b[0m\u001b[0mdates\u001b[0m\u001b[0;34m[\u001b[0m\u001b[0mi\u001b[0m\u001b[0;34m]\u001b[0m\u001b[0;34m]\u001b[0m\u001b[0;34m\u001b[0m\u001b[0m\n\u001b[0m\u001b[1;32m      3\u001b[0m     \u001b[0mpercent\u001b[0m \u001b[0;34m=\u001b[0m \u001b[0mmkt_cap\u001b[0m\u001b[0;34m.\u001b[0m\u001b[0mrename\u001b[0m\u001b[0;34m(\u001b[0m\u001b[0mindex\u001b[0m\u001b[0;34m=\u001b[0m\u001b[0mstr\u001b[0m\u001b[0;34m,\u001b[0m \u001b[0mcolumns\u001b[0m\u001b[0;34m=\u001b[0m\u001b[0;34m{\u001b[0m\u001b[0;34m'Unnd: 0'\u001b[0m\u001b[0;34m:\u001b[0m\u001b[0;34m'stock'\u001b[0m\u001b[0;34m}\u001b[0m\u001b[0;34m)\u001b[0m\u001b[0;34m.\u001b[0m\u001b[0mset_index\u001b[0m\u001b[0;34m(\u001b[0m\u001b[0;34m'stock'\u001b[0m\u001b[0;34m)\u001b[0m\u001b[0;34m.\u001b[0m\u001b[0mloc\u001b[0m\u001b[0;34m[\u001b[0m\u001b[0mtops\u001b[0m\u001b[0;34m[\u001b[0m\u001b[0mi\u001b[0m\u001b[0;34m]\u001b[0m\u001b[0;34m]\u001b[0m\u001b[0;34m[\u001b[0m\u001b[0mdates\u001b[0m\u001b[0;34m[\u001b[0m\u001b[0mi\u001b[0m\u001b[0;34m]\u001b[0m\u001b[0;34m]\u001b[0m\u001b[0;34m\u001b[0m\u001b[0m\n\u001b[1;32m      4\u001b[0m     \u001b[0mresult_topPB\u001b[0m\u001b[0;34m.\u001b[0m\u001b[0mappend\u001b[0m\u001b[0;34m(\u001b[0m\u001b[0;34m(\u001b[0m\u001b[0mPB\u001b[0m \u001b[0;34m*\u001b[0m \u001b[0mpercent\u001b[0m \u001b[0;34m/\u001b[0m \u001b[0mpercent\u001b[0m\u001b[0;34m.\u001b[0m\u001b[0msum\u001b[0m\u001b[0;34m(\u001b[0m\u001b[0;34m)\u001b[0m\u001b[0;34m)\u001b[0m\u001b[0;34m.\u001b[0m\u001b[0msum\u001b[0m\u001b[0;34m(\u001b[0m\u001b[0;34m)\u001b[0m\u001b[0;34m)\u001b[0m\u001b[0;34m\u001b[0m\u001b[0m\n\u001b[1;32m      5\u001b[0m \u001b[0;34m\u001b[0m\u001b[0m\n",
      "\u001b[0;32m/opt/conda/lib/python3.5/site-packages/pandas/core/indexing.py\u001b[0m in \u001b[0;36m__getitem__\u001b[0;34m(self, key)\u001b[0m\n\u001b[1;32m   1476\u001b[0m \u001b[0;34m\u001b[0m\u001b[0m\n\u001b[1;32m   1477\u001b[0m             \u001b[0mmaybe_callable\u001b[0m \u001b[0;34m=\u001b[0m \u001b[0mcom\u001b[0m\u001b[0;34m.\u001b[0m\u001b[0m_apply_if_callable\u001b[0m\u001b[0;34m(\u001b[0m\u001b[0mkey\u001b[0m\u001b[0;34m,\u001b[0m \u001b[0mself\u001b[0m\u001b[0;34m.\u001b[0m\u001b[0mobj\u001b[0m\u001b[0;34m)\u001b[0m\u001b[0;34m\u001b[0m\u001b[0m\n\u001b[0;32m-> 1478\u001b[0;31m             \u001b[0;32mreturn\u001b[0m \u001b[0mself\u001b[0m\u001b[0;34m.\u001b[0m\u001b[0m_getitem_axis\u001b[0m\u001b[0;34m(\u001b[0m\u001b[0mmaybe_callable\u001b[0m\u001b[0;34m,\u001b[0m \u001b[0maxis\u001b[0m\u001b[0;34m=\u001b[0m\u001b[0maxis\u001b[0m\u001b[0;34m)\u001b[0m\u001b[0;34m\u001b[0m\u001b[0m\n\u001b[0m\u001b[1;32m   1479\u001b[0m \u001b[0;34m\u001b[0m\u001b[0m\n\u001b[1;32m   1480\u001b[0m     \u001b[0;32mdef\u001b[0m \u001b[0m_is_scalar_access\u001b[0m\u001b[0;34m(\u001b[0m\u001b[0mself\u001b[0m\u001b[0;34m,\u001b[0m \u001b[0mkey\u001b[0m\u001b[0;34m)\u001b[0m\u001b[0;34m:\u001b[0m\u001b[0;34m\u001b[0m\u001b[0m\n",
      "\u001b[0;32m/opt/conda/lib/python3.5/site-packages/pandas/core/indexing.py\u001b[0m in \u001b[0;36m_getitem_axis\u001b[0;34m(self, key, axis)\u001b[0m\n\u001b[1;32m   1899\u001b[0m                     \u001b[0;32mraise\u001b[0m \u001b[0mValueError\u001b[0m\u001b[0;34m(\u001b[0m\u001b[0;34m'Cannot index with multidimensional key'\u001b[0m\u001b[0;34m)\u001b[0m\u001b[0;34m\u001b[0m\u001b[0m\n\u001b[1;32m   1900\u001b[0m \u001b[0;34m\u001b[0m\u001b[0m\n\u001b[0;32m-> 1901\u001b[0;31m                 \u001b[0;32mreturn\u001b[0m \u001b[0mself\u001b[0m\u001b[0;34m.\u001b[0m\u001b[0m_getitem_iterable\u001b[0m\u001b[0;34m(\u001b[0m\u001b[0mkey\u001b[0m\u001b[0;34m,\u001b[0m \u001b[0maxis\u001b[0m\u001b[0;34m=\u001b[0m\u001b[0maxis\u001b[0m\u001b[0;34m)\u001b[0m\u001b[0;34m\u001b[0m\u001b[0m\n\u001b[0m\u001b[1;32m   1902\u001b[0m \u001b[0;34m\u001b[0m\u001b[0m\n\u001b[1;32m   1903\u001b[0m             \u001b[0;31m# nested tuple slicing\u001b[0m\u001b[0;34m\u001b[0m\u001b[0;34m\u001b[0m\u001b[0m\n",
      "\u001b[0;32m/opt/conda/lib/python3.5/site-packages/pandas/core/indexing.py\u001b[0m in \u001b[0;36m_getitem_iterable\u001b[0;34m(self, key, axis)\u001b[0m\n\u001b[1;32m   1141\u001b[0m             \u001b[0;32mif\u001b[0m \u001b[0mlabels\u001b[0m\u001b[0;34m.\u001b[0m\u001b[0mis_unique\u001b[0m \u001b[0;32mand\u001b[0m \u001b[0mIndex\u001b[0m\u001b[0;34m(\u001b[0m\u001b[0mkeyarr\u001b[0m\u001b[0;34m)\u001b[0m\u001b[0;34m.\u001b[0m\u001b[0mis_unique\u001b[0m\u001b[0;34m:\u001b[0m\u001b[0;34m\u001b[0m\u001b[0m\n\u001b[1;32m   1142\u001b[0m                 \u001b[0mindexer\u001b[0m \u001b[0;34m=\u001b[0m \u001b[0max\u001b[0m\u001b[0;34m.\u001b[0m\u001b[0mget_indexer_for\u001b[0m\u001b[0;34m(\u001b[0m\u001b[0mkey\u001b[0m\u001b[0;34m)\u001b[0m\u001b[0;34m\u001b[0m\u001b[0m\n\u001b[0;32m-> 1143\u001b[0;31m                 \u001b[0mself\u001b[0m\u001b[0;34m.\u001b[0m\u001b[0m_validate_read_indexer\u001b[0m\u001b[0;34m(\u001b[0m\u001b[0mkey\u001b[0m\u001b[0;34m,\u001b[0m \u001b[0mindexer\u001b[0m\u001b[0;34m,\u001b[0m \u001b[0maxis\u001b[0m\u001b[0;34m)\u001b[0m\u001b[0;34m\u001b[0m\u001b[0m\n\u001b[0m\u001b[1;32m   1144\u001b[0m \u001b[0;34m\u001b[0m\u001b[0m\n\u001b[1;32m   1145\u001b[0m                 \u001b[0md\u001b[0m \u001b[0;34m=\u001b[0m \u001b[0;34m{\u001b[0m\u001b[0maxis\u001b[0m\u001b[0;34m:\u001b[0m \u001b[0;34m[\u001b[0m\u001b[0max\u001b[0m\u001b[0;34m.\u001b[0m\u001b[0mreindex\u001b[0m\u001b[0;34m(\u001b[0m\u001b[0mkeyarr\u001b[0m\u001b[0;34m)\u001b[0m\u001b[0;34m[\u001b[0m\u001b[0;36m0\u001b[0m\u001b[0;34m]\u001b[0m\u001b[0;34m,\u001b[0m \u001b[0mindexer\u001b[0m\u001b[0;34m]\u001b[0m\u001b[0;34m}\u001b[0m\u001b[0;34m\u001b[0m\u001b[0m\n",
      "\u001b[0;32m/opt/conda/lib/python3.5/site-packages/pandas/core/indexing.py\u001b[0m in \u001b[0;36m_validate_read_indexer\u001b[0;34m(self, key, indexer, axis)\u001b[0m\n\u001b[1;32m   1204\u001b[0m                 raise KeyError(\n\u001b[1;32m   1205\u001b[0m                     u\"None of [{key}] are in the [{axis}]\".format(\n\u001b[0;32m-> 1206\u001b[0;31m                         key=key, axis=self.obj._get_axis_name(axis)))\n\u001b[0m\u001b[1;32m   1207\u001b[0m \u001b[0;34m\u001b[0m\u001b[0m\n\u001b[1;32m   1208\u001b[0m             \u001b[0;31m# we skip the warning on Categorical/Interval\u001b[0m\u001b[0;34m\u001b[0m\u001b[0;34m\u001b[0m\u001b[0m\n",
      "\u001b[0;31mKeyError\u001b[0m: \"None of [['ACN US  EQUITY' 'MO US  EQUITY' 'APH US  EQUITY' 'AZO US  EQUITY'\\n 'HRB US  EQUITY' 'CPB US  EQUITY' 'CL US  EQUITY' 'EFX US  EQUITY'\\n 'FCX US  EQUITY' 'K US  EQUITY' 'MRK US  EQUITY' 'ORCL US  EQUITY'\\n 'PEP US  EQUITY' 'PFE US  EQUITY' 'PG US  EQUITY' 'TPR US  EQUITY'\\n 'TJX US  EQUITY' 'VTR US  EQUITY' 'WDC US  EQUITY' 'YUM US  EQUITY'\\n 'ZBH US  EQUITY' 'LLY US  EQUITY' 'ROST US  EQUITY' 'MKC US  EQUITY'\\n 'KR US  EQUITY' 'MMM US  EQUITY' 'SYY US  EQUITY' 'UNH US  EQUITY'\\n 'DVA US  EQUITY' 'HSY US  EQUITY' 'IFF US  EQUITY' 'BLL US  EQUITY'\\n 'KMB US  EQUITY' 'PAYX US  EQUITY' 'CNC US  EQUITY' 'FLIR US  EQUITY'\\n 'ADBE US  EQUITY' 'CTL US  EQUITY' 'HOG US  EQUITY' 'AJG US  EQUITY'\\n 'CLX US  EQUITY' 'SPGI US  EQUITY' 'ABT US  EQUITY' 'LEN US  EQUITY'\\n 'UPS US  EQUITY' 'EIX US  EQUITY' 'JNJ US  EQUITY' 'KO US  EQUITY'\\n 'GRMN US  EQUITY' 'OMC US  EQUITY' 'WLTW US  EQUITY' 'CME US  EQUITY'\\n 'SYK US  EQUITY' 'MMC US  EQUITY' 'AVY US  EQUITY' 'UTX US  EQUITY'\\n 'CTSH US  EQUITY' 'TTWO US  EQUITY' 'CHRW US  EQUITY' 'EA US  EQUITY'\\n 'BMY US  EQUITY' 'EXPD US  EQUITY' 'DHI US  EQUITY' 'GE US  EQUITY'\\n 'BLK US  EQUITY' 'DG US  EQUITY' 'WAT US  EQUITY' 'STT US  EQUITY'\\n 'BAX US  EQUITY' 'RMD US  EQUITY' 'ANSS US  EQUITY' 'PX US  EQUITY'\\n 'TSS US  EQUITY' 'COF US  EQUITY' 'ADP US  EQUITY' 'BXP US  EQUITY'\\n 'MTD US  EQUITY' 'AME US  EQUITY' 'COL US  EQUITY' 'ESRX US  EQUITY'\\n 'DRI US  EQUITY' 'ECL US  EQUITY' 'VAR US  EQUITY' 'SRE US  EQUITY'\\n 'CHD US  EQUITY' 'WMT US  EQUITY' 'FMC US  EQUITY' 'DGX US  EQUITY'\\n 'KSS US  EQUITY' 'AXP US  EQUITY' 'DLTR US  EQUITY' 'XRAY US  EQUITY'\\n 'TGT US  EQUITY' 'SWK US  EQUITY' 'UHS US  EQUITY' 'FITB US  EQUITY'\\n 'BDX US  EQUITY' 'CAH US  EQUITY' 'MDT US  EQUITY' 'HD US  EQUITY']] are in the [index]\""
     ]
    }
   ],
   "source": [
    "for i in range(len(dates) - 64, len(dates) - 36):\n",
    "    PB = df_pb.rename(index=str, columns={'Unnd: 0':'stock'}).set_index('stock').loc[tops[i]][dates[i]]\n",
    "    percent = mkt_cap.rename(index=str, columns={'Unnd: 0':'stock'}).set_index('stock').loc[tops[i]][dates[i]]\n",
    "    result_topPB.append((PB * percent / percent.sum()).sum())\n",
    "    \n",
    "for i in range(len(dates) - 64, len(dates) - 36):\n",
    "    PB = df_pb.rename(index=str, columns={'Unnd: 0':'stock'}).set_index('stock').loc[bottoms[i]][dates[i]]\n",
    "    percent = mkt_cap.rename(index=str, columns={'Unnd: 0':'stock'}).set_index('stock').loc[bottoms[i]][dates[i]]\n",
    "    result_bottomPB.append((PB * percent / percent.sum()).sum())\n",
    "    \n",
    "plt.plot(result_topPB, label='top')\n",
    "plt.plot(result_bottomPB, label='bottom')\n",
    "plt.legend()"
   ]
  },
  {
   "cell_type": "markdown",
   "metadata": {},
   "source": [
    "2000 - 2002"
   ]
  },
  {
   "cell_type": "code",
   "execution_count": 22,
   "metadata": {},
   "outputs": [
    {
     "data": {
      "text/plain": [
       "'3/2000'"
      ]
     },
     "execution_count": 22,
     "metadata": {},
     "output_type": "execute_result"
    }
   ],
   "source": [
    "dates[len(dates)-76]"
   ]
  },
  {
   "cell_type": "code",
   "execution_count": 23,
   "metadata": {},
   "outputs": [
    {
     "data": {
      "text/plain": [
       "(94, 100)"
      ]
     },
     "execution_count": 23,
     "metadata": {},
     "output_type": "execute_result"
    }
   ],
   "source": [
    "tops.shape"
   ]
  },
  {
   "cell_type": "code",
   "execution_count": 24,
   "metadata": {},
   "outputs": [
    {
     "data": {
      "text/plain": [
       "<matplotlib.legend.Legend at 0x7f4be3f7ab38>"
      ]
     },
     "execution_count": 24,
     "metadata": {},
     "output_type": "execute_result"
    },
    {
     "data": {
      "image/png": "[encoded data removed]",
      "text/plain": [
       "<Figure size 432x288 with 1 Axes>"
      ]
     },
     "metadata": {
      "needs_background": "light"
     },
     "output_type": "display_data"
    }
   ],
   "source": [
    "result_top = []\n",
    "result_bottom = []\n",
    "result_market = []\n",
    "result_topPB = []\n",
    "result_bottomPB = []\n",
    "\n",
    "for i in range(len(dates)-92, len(dates)-64):\n",
    "    returns = df_tot_return.rename(index=str, columns={'Unnd: 0':'stock'}).set_index('stock').loc[tops[i]][dates[i]]\n",
    "    percent = mkt_cap.rename(index=str, columns={'Unnd: 0':'stock'}).set_index('stock').loc[tops[i]][dates[i]]\n",
    "    percent = percent.astype(float)\n",
    "    result_top.append((returns * percent / percent.sum()).sum())\n",
    "\n",
    "for i in range(len(dates)-92, len(dates)-64):\n",
    "    returns = df_tot_return.rename(index=str, columns={'Unnd: 0':'stock'}).set_index('stock').loc[bottoms[i]][dates[i]]\n",
    "    percent = mkt_cap.rename(index=str, columns={'Unnd: 0':'stock'}).set_index('stock').loc[bottoms[i]][dates[i]]\n",
    "    percent = percent.astype(float)\n",
    "    result_bottom.append((returns * percent / percent.sum()).sum())\n",
    "    \n",
    "for i in range(len(dates)-92, len(dates)-64):\n",
    "    returns = df_tot_return.rename(index=str, columns={'Unnd: 0':'stock'}).set_index('stock').loc[markets[i]][dates[i]]\n",
    "    percent = mkt_cap.rename(index=str, columns={'Unnd: 0':'stock'}).set_index('stock').loc[markets[i]][dates[i]]\n",
    "    percent = percent.astype(float)\n",
    "    result_market.append((returns * percent / percent.sum()).sum())\n",
    "\n",
    "for i in range(len(result_top)):\n",
    "    denominator = result_top[0]\n",
    "    result_top[:] = result_top[:]/denominator\n",
    "    \n",
    "for i in range(len(result_market)):\n",
    "    denominator = result_market[0]\n",
    "    result_market[:] = result_market[:]/denominator\n",
    "    \n",
    "for i in range(len(result_bottom)):\n",
    "    denominator = result_bottom[0]\n",
    "    result_bottom[:] = result_bottom[:]/denominator\n",
    "    \n",
    "\n",
    "plt.plot(result_top, label='Quality')\n",
    "plt.plot(result_bottom, label='Junk')\n",
    "plt.plot(result_market, label='Market', marker = '', color = 'olive', linewidth=2, linestyle='dashed')\n",
    "plt.legend()"
   ]
  },
  {
   "cell_type": "code",
   "execution_count": 25,
   "metadata": {},
   "outputs": [],
   "source": [
    "result_00 = pd.DataFrame({'Quality':result_top[:],'Market':result_market[:], 'Junk':result_bottom[:]})\n",
    "result_00.to_csv('result_00_roe.csv')"
   ]
  }
 ],
 "metadata": {
  "kernelspec": {
   "display_name": "Python 3",
   "language": "python",
   "name": "python3"
  },
  "language_info": {
   "codemirror_mode": {
    "name": "ipython",
    "version": 3
   },
   "file_extension": ".py",
   "mimetype": "text/x-python",
   "name": "python",
   "nbconvert_exporter": "python",
   "pygments_lexer": "ipython3",
   "version": "3.5.6"
  }
 },
 "nbformat": 4,
 "nbformat_minor": 2
}
