{
 "cells": [
  {
   "cell_type": "code",
   "execution_count": 54,
   "metadata": {},
   "outputs": [],
   "source": [
    "import pandas as pd\n",
    "import numpy as np\n",
    "import matplotlib.pyplot as plt"
   ]
  },
  {
   "cell_type": "code",
   "execution_count": 55,
   "metadata": {},
   "outputs": [],
   "source": [
    "df = pd.read_csv(\"df_q.csv\")"
   ]
  },
  {
   "cell_type": "code",
   "execution_count": 56,
   "metadata": {},
   "outputs": [],
   "source": [
    "df.drop(df.columns[0], axis=1, inplace=True)"
   ]
  },
  {
   "cell_type": "code",
   "execution_count": 57,
   "metadata": {},
   "outputs": [],
   "source": [
    "dfval = df.fillna(-1).values\n",
    "num_row = dfval.shape[0]\n",
    "top_50s = []\n",
    "bottom_50s = []\n",
    "market_300 = []\n",
    "\n",
    "for date in range(2, dfval.shape[1]):\n",
    "\n",
    "    col = dfval[:, [0,date]]\n",
    "    num_nan = np.sum(col[:,1] < 0)\n",
    "    sorted_x = np.array(sorted(list(col), key=lambda x: -x[1]))\n",
    "    \n",
    "    top_50s.append(np.array(sorted_x[:100])[:,0])\n",
    "    bottom_50s.append(np.array(sorted_x[num_row-num_nan-100:num_row-num_nan])[:,0])\n",
    "    market_300.append(np.array(sorted_x[:330])[:,0])"
   ]
  },
  {
   "cell_type": "code",
   "execution_count": 58,
   "metadata": {},
   "outputs": [],
   "source": [
    "dates = [x[:-7] + x[-4:] for x in df.columns.values[3:]]\n",
    "tops = np.array(top_50s)\n",
    "bottoms = np.array(bottom_50s)\n",
    "markets = np.array(market_300)"
   ]
  },
  {
   "cell_type": "code",
   "execution_count": 59,
   "metadata": {},
   "outputs": [
    {
     "data": {
      "text/plain": [
       "array(['VRSN US  EQUITY', 'MA US  EQUITY', 'KLAC US  EQUITY',\n",
       "       'SPGI US  EQUITY', 'NKTR US  EQUITY', 'INTU US  EQUITY',\n",
       "       'MTD US  EQUITY', 'STX US  EQUITY', 'VRTX US  EQUITY',\n",
       "       'NVDA US  EQUITY', 'TJX US  EQUITY', 'ALLE US  EQUITY',\n",
       "       'HSY US  EQUITY', 'CLX US  EQUITY', 'ROST US  EQUITY',\n",
       "       'PAYX US  EQUITY', 'AKAM US  EQUITY', 'LRCX US  EQUITY',\n",
       "       'TXN US  EQUITY', 'FTV US  EQUITY', 'RHI US  EQUITY',\n",
       "       'HII US  EQUITY', 'FFIV US  EQUITY', 'ULTA US  EQUITY',\n",
       "       'AAPL US  EQUITY', 'ALGN US  EQUITY', 'TSCO US  EQUITY',\n",
       "       'CHRW US  EQUITY', 'EXPD US  EQUITY', 'FAST US  EQUITY',\n",
       "       'ACN US  EQUITY', 'ROK US  EQUITY', 'ADP US  EQUITY',\n",
       "       'EA US  EQUITY', 'REGN US  EQUITY', 'CTXS US  EQUITY',\n",
       "       'SWKS US  EQUITY', 'OMC US  EQUITY', 'ITW US  EQUITY',\n",
       "       'BKNG US  EQUITY', 'AOS US  EQUITY', 'PEP US  EQUITY',\n",
       "       'TROW US  EQUITY', 'DRI US  EQUITY', 'GWW US  EQUITY',\n",
       "       'AMD US  EQUITY', 'AMAT US  EQUITY', 'BBY US  EQUITY',\n",
       "       'WAT US  EQUITY', 'GPS US  EQUITY', 'EL US  EQUITY',\n",
       "       'BMY US  EQUITY', 'EW US  EQUITY', 'CBS US  EQUITY',\n",
       "       'PKG US  EQUITY', 'XEC US  EQUITY', 'AMP US  EQUITY',\n",
       "       'AYI US  EQUITY', 'ILMN US  EQUITY', 'PSA US  EQUITY',\n",
       "       'CDNS US  EQUITY', 'CTAS US  EQUITY', 'LYB US  EQUITY',\n",
       "       'ISRG US  EQUITY', 'CMI US  EQUITY', 'MNST US  EQUITY',\n",
       "       'ANSS US  EQUITY', 'ABC US  EQUITY', 'JBHT US  EQUITY',\n",
       "       'RHT US  EQUITY', 'DG US  EQUITY', 'MU US  EQUITY',\n",
       "       'SCHW US  EQUITY', 'XLNX US  EQUITY', 'COG US  EQUITY',\n",
       "       'TPR US  EQUITY', 'BIIB US  EQUITY', 'JWN US  EQUITY',\n",
       "       'HPQ US  EQUITY', 'SNA US  EQUITY', 'HRL US  EQUITY',\n",
       "       'ADBE US  EQUITY', 'RMD US  EQUITY', 'SNPS US  EQUITY',\n",
       "       'CERN US  EQUITY', 'DLTR US  EQUITY', 'APH US  EQUITY',\n",
       "       'CMG US  EQUITY', 'BWA US  EQUITY', 'TTWO US  EQUITY',\n",
       "       'FL US  EQUITY', 'LEG US  EQUITY', 'FOXA US  EQUITY',\n",
       "       'FOX US  EQUITY', 'DVN US  EQUITY', 'CTSH US  EQUITY',\n",
       "       'M US  EQUITY', 'AAP US  EQUITY', 'BEN US  EQUITY',\n",
       "       'CHD US  EQUITY'], dtype=object)"
      ]
     },
     "execution_count": 59,
     "metadata": {},
     "output_type": "execute_result"
    }
   ],
   "source": [
    "tops[len(dates)]"
   ]
  },
  {
   "cell_type": "code",
   "execution_count": 60,
   "metadata": {},
   "outputs": [
    {
     "data": {
      "text/plain": [
       "array(['CMS US  EQUITY', 'HOG US  EQUITY', 'DHR US  EQUITY',\n",
       "       'PEG US  EQUITY', 'WELL US  EQUITY', 'PLD US  EQUITY',\n",
       "       'NI US  EQUITY', 'SPG US  EQUITY', 'DVA US  EQUITY',\n",
       "       'MGM US  EQUITY', 'CAT US  EQUITY', 'NLSN US  EQUITY',\n",
       "       'HLT US  EQUITY', 'BK US  EQUITY', 'XEL US  EQUITY',\n",
       "       'MRK US  EQUITY', 'USB US  EQUITY', 'APC US  EQUITY',\n",
       "       'EQR US  EQUITY', 'EIX US  EQUITY', 'MCD US  EQUITY',\n",
       "       'DISCA US  EQUITY', 'DISCK US  EQUITY', 'BHGE US  EQUITY',\n",
       "       'CCI US  EQUITY', 'MDLZ US  EQUITY', 'AMZN US  EQUITY',\n",
       "       'PPL US  EQUITY', 'KO US  EQUITY', 'ETR US  EQUITY',\n",
       "       'DPS US  EQUITY', 'WU US  EQUITY', 'JPM US  EQUITY',\n",
       "       'GGP US  EQUITY', 'ED US  EQUITY', 'FE US  EQUITY',\n",
       "       'TMO US  EQUITY', 'KMX US  EQUITY', 'IRM US  EQUITY',\n",
       "       'HCA US  EQUITY', 'ABT US  EQUITY', 'WFC US  EQUITY',\n",
       "       'QCOM US  EQUITY', 'BAC US  EQUITY', 'BDX US  EQUITY',\n",
       "       'SLB US  EQUITY', 'AEP US  EQUITY', 'TDG US  EQUITY',\n",
       "       'HRB US  EQUITY', 'MAT US  EQUITY', 'ORCL US  EQUITY',\n",
       "       'SRE US  EQUITY', 'WMB US  EQUITY', 'DIS US  EQUITY',\n",
       "       'CB US  EQUITY', 'PCG US  EQUITY', 'AAL US  EQUITY',\n",
       "       'INTC US  EQUITY', 'GOOGL US  EQUITY', 'GOOG US  EQUITY',\n",
       "       'AXP US  EQUITY', 'UNH US  EQUITY', 'D US  EQUITY',\n",
       "       'PG US  EQUITY', 'MDT US  EQUITY', 'CTL US  EQUITY',\n",
       "       'MPC US  EQUITY', 'NEE US  EQUITY', 'ADS US  EQUITY',\n",
       "       'XOM US  EQUITY', 'PFE US  EQUITY', 'CVX US  EQUITY',\n",
       "       'DE US  EQUITY', 'CVS US  EQUITY', 'VZ US  EQUITY',\n",
       "       'KMI US  EQUITY', 'UTX US  EQUITY', 'T US  EQUITY',\n",
       "       'DWDP US  EQUITY', 'JNJ US  EQUITY', 'WMT US  EQUITY',\n",
       "       'COF US  EQUITY', 'CPB US  EQUITY', 'CI US  EQUITY',\n",
       "       'CMCSA US  EQUITY', 'AGN US  EQUITY', 'SO US  EQUITY',\n",
       "       'KHC US  EQUITY', 'DUK US  EQUITY', 'GM US  EQUITY',\n",
       "       'ADSK US  EQUITY', 'NRG US  EQUITY', 'SBAC US  EQUITY',\n",
       "       'CHTR US  EQUITY', 'C US  EQUITY', 'GE US  EQUITY', 'F US  EQUITY',\n",
       "       'MS US  EQUITY', 'GS US  EQUITY', 'NAVI US  EQUITY'], dtype=object)"
      ]
     },
     "execution_count": 60,
     "metadata": {},
     "output_type": "execute_result"
    }
   ],
   "source": [
    "bottoms[len(dates)]"
   ]
  },
  {
   "cell_type": "markdown",
   "metadata": {},
   "source": [
    "Post Financial Crisis: 2010 - 2018"
   ]
  },
  {
   "cell_type": "code",
   "execution_count": 113,
   "metadata": {},
   "outputs": [],
   "source": [
    "df_pe = pd.read_csv('spy_pe_est.csv')"
   ]
  },
  {
   "cell_type": "code",
   "execution_count": 114,
   "metadata": {},
   "outputs": [],
   "source": [
    "df_tot_return = pd.read_csv('spy_total_return_indx.csv')\n",
    "#mkt_cap = pd.read_csv('spy_market_cap_.csv')\n",
    "mkt_cap = pd.read_csv('spy_market_cap_more.csv')\n",
    "df_pb = pd.read_csv('spy_pb_est.csv')"
   ]
  },
  {
   "cell_type": "code",
   "execution_count": 115,
   "metadata": {},
   "outputs": [],
   "source": [
    "data_price = pd.read_csv(\"spy_last_price.csv\")\n",
    "data_eps = pd.read_csv(\"spy_eps.csv\")"
   ]
  },
  {
   "cell_type": "code",
   "execution_count": 116,
   "metadata": {},
   "outputs": [],
   "source": [
    "#df_tot_return = pd.read_csv('mod_total_return.csv')"
   ]
  },
  {
   "cell_type": "code",
   "execution_count": 117,
   "metadata": {},
   "outputs": [],
   "source": [
    "#val = df_tot_return.values[:, 2:].astype(np.float)\n",
    "#val.shape[0]"
   ]
  },
  {
   "cell_type": "code",
   "execution_count": 118,
   "metadata": {},
   "outputs": [],
   "source": [
    "#normalize df_tot_return\n",
    "#for i in range(val.shape[0]):\n",
    "    #denominator = val[i, 0]\n",
    "    #val[i, 0:] = val[i, 0:]/denominator\n",
    "#v = df_tot_return.values\n",
    "#v[:, 2:] = val.astype(str)\n",
    "#df_tot_return[:] = v"
   ]
  },
  {
   "cell_type": "code",
   "execution_count": 119,
   "metadata": {},
   "outputs": [],
   "source": [
    "new_dates_pb = df_pb.columns.values\n",
    "df_pb = df_pb.rename(index=str, columns={x:x[:-7]+x[-4:] for x in new_dates_pb})"
   ]
  },
  {
   "cell_type": "code",
   "execution_count": 120,
   "metadata": {},
   "outputs": [],
   "source": [
    "new_dates = mkt_cap.columns.values\n",
    "mkt_cap = mkt_cap.rename(index=str, columns={x:x[:-7]+x[-4:] for x in new_dates})\n",
    "df_tot_return = df_tot_return.rename(index=str, columns={x:x[:-7]+x[-4:] for x in new_dates})"
   ]
  },
  {
   "cell_type": "code",
   "execution_count": 121,
   "metadata": {},
   "outputs": [],
   "source": [
    "new_dates_pe = df_pe.columns.values\n",
    "df_pe = df_pe.rename(index=str, columns={x:x[:-7]+x[-4:] for x in new_dates_pe})"
   ]
  },
  {
   "cell_type": "code",
   "execution_count": 122,
   "metadata": {},
   "outputs": [],
   "source": [
    "new_dates_eps = data_eps.columns.values\n",
    "data_eps = data_eps.rename(index=str, columns={x:x[:-7]+x[-4:] for x in new_dates_eps})\n",
    "new_dates_price = data_price.columns.values\n",
    "data_price = data_price.rename(index=str, columns={x:x[:-7]+x[-4:] for x in new_dates_price})"
   ]
  },
  {
   "cell_type": "code",
   "execution_count": 123,
   "metadata": {},
   "outputs": [],
   "source": [
    "result_top = []\n",
    "result_bottom = []\n",
    "result_market = []\n",
    "result_topPB = []\n",
    "result_bottomPB = []\n",
    "result_topPE = []\n",
    "result_bottomPE = []\n",
    "\n",
    "for i in range(len(dates) - 36, len(dates)):\n",
    "    returns = df_tot_return.rename(index=str, columns={'Unnd: 0':'stock'}).set_index('stock').loc[tops[i]][dates[i]]\n",
    "    returns = returns.astype(float)\n",
    "    percent = mkt_cap.rename(index=str, columns={'Unnd: 0':'stock'}).set_index('stock').loc[tops[i]][dates[i]]\n",
    "    percent = percent.astype(float)\n",
    "    result_top.append((returns * percent / percent.sum()).sum())"
   ]
  },
  {
   "cell_type": "code",
   "execution_count": 124,
   "metadata": {},
   "outputs": [],
   "source": [
    "#Normalize the return\n",
    "for i in range(len(result_top)):\n",
    "    denominator = result_top[0]\n",
    "    result_top[:] = result_top[:]/denominator"
   ]
  },
  {
   "cell_type": "code",
   "execution_count": 125,
   "metadata": {},
   "outputs": [
    {
     "data": {
      "text/plain": [
       "'3/2010'"
      ]
     },
     "execution_count": 125,
     "metadata": {},
     "output_type": "execute_result"
    }
   ],
   "source": [
    "dates[len(dates) - 36]"
   ]
  },
  {
   "cell_type": "code",
   "execution_count": 126,
   "metadata": {},
   "outputs": [
    {
     "data": {
      "text/plain": [
       "<matplotlib.legend.Legend at 0x7f4ddf561dd8>"
      ]
     },
     "execution_count": 126,
     "metadata": {},
     "output_type": "execute_result"
    },
    {
     "data": {
      "image/png": "[encoded data removed]",
      "text/plain": [
       "<Figure size 432x288 with 1 Axes>"
      ]
     },
     "metadata": {
      "needs_background": "light"
     },
     "output_type": "display_data"
    }
   ],
   "source": [
    "for i in range(len(dates) - 36, len(dates)):\n",
    "    returns = df_tot_return.rename(index=str, columns={'Unnd: 0':'stock'}).set_index('stock').loc[bottoms[i]][dates[i]]\n",
    "    returns = returns.astype(float)\n",
    "    percent = mkt_cap.rename(index=str, columns={'Unnd: 0':'stock'}).set_index('stock').loc[bottoms[i]][dates[i]]\n",
    "    percent = percent.astype(float)\n",
    "    result_bottom.append((returns * percent / percent.sum()).sum())\n",
    "    \n",
    "for i in range(len(result_bottom)):\n",
    "    denominator = result_bottom[0]\n",
    "    result_bottom[:] = result_bottom[:]/denominator\n",
    "\n",
    "for i in range(len(dates) - 36, len(dates)):\n",
    "    returns = df_tot_return.rename(index=str, columns={'Unnd: 0':'stock'}).set_index('stock').loc[markets[i]][dates[i]]\n",
    "    returns = returns.astype(float)\n",
    "    percent = mkt_cap.rename(index=str, columns={'Unnd: 0':'stock'}).set_index('stock').loc[markets[i]][dates[i]]\n",
    "    percent = percent.astype(float)\n",
    "    result_market.append((returns * percent / percent.sum()).sum())\n",
    "    \n",
    "for i in range(len(result_market)):\n",
    "    denominator = result_market[0]\n",
    "    result_market[:] = result_market[:]/denominator\n",
    "    \n",
    "\n",
    "plt.plot(result_top, label='Quality')\n",
    "plt.plot(result_bottom, label='Junk')\n",
    "plt.plot(result_market, label='Market', marker = '', color = 'olive', linewidth=2, linestyle='dashed')\n",
    "plt.legend()"
   ]
  },
  {
   "cell_type": "code",
   "execution_count": 127,
   "metadata": {},
   "outputs": [],
   "source": [
    "result_18 = pd.DataFrame({'top':result_top[:],'market':result_market[:], 'bottom':result_bottom[:]})"
   ]
  },
  {
   "cell_type": "code",
   "execution_count": 128,
   "metadata": {},
   "outputs": [],
   "source": [
    "result_18.to_csv('result_18.csv')"
   ]
  },
  {
   "cell_type": "code",
   "execution_count": 129,
   "metadata": {},
   "outputs": [],
   "source": [
    "for i in range(len(dates)-36, len(dates)):\n",
    "    PB = df_pb.rename(index=str, columns={'Unnd: 0':'stock'}).set_index('stock').loc[tops[i]][dates[i]]\n",
    "    PB = PB.astype(float)\n",
    "    percent = mkt_cap.rename(index=str, columns={'Unnd: 0':'stock'}).set_index('stock').loc[tops[i]][dates[i]]\n",
    "    percent = percent.astype(float)\n",
    "    result_topPB.append((PB * percent / percent.sum()).sum())\n",
    "    \n",
    "for i in range(len(dates)-36, len(dates)):\n",
    "    PB = df_pb.rename(index=str, columns={'Unnd: 0':'stock'}).set_index('stock').loc[bottoms[i]][dates[i]]\n",
    "    percent = mkt_cap.rename(index=str, columns={'Unnd: 0':'stock'}).set_index('stock').loc[bottoms[i]][dates[i]]\n",
    "    PB = PB.astype(float)\n",
    "    percent = percent.astype(float)\n",
    "    result_bottomPB.append((PB * percent / percent.sum()).sum())"
   ]
  },
  {
   "cell_type": "code",
   "execution_count": 130,
   "metadata": {},
   "outputs": [
    {
     "data": {
      "text/plain": [
       "11.583391140924999"
      ]
     },
     "execution_count": 130,
     "metadata": {},
     "output_type": "execute_result"
    }
   ],
   "source": [
    "np.nanpercentile(result_bottomPB, 97.5, axis=0)"
   ]
  },
  {
   "cell_type": "code",
   "execution_count": 131,
   "metadata": {},
   "outputs": [],
   "source": [
    "result_bottomPB[14] = np.nanpercentile(result_bottomPB, 97.5, axis=0)\n",
    "result_topPB[32] = np.nanpercentile(result_topPB, 97.5, axis=0)"
   ]
  },
  {
   "cell_type": "code",
   "execution_count": 132,
   "metadata": {},
   "outputs": [
    {
     "data": {
      "text/plain": [
       "<matplotlib.legend.Legend at 0x7f4ddf51e5f8>"
      ]
     },
     "execution_count": 132,
     "metadata": {},
     "output_type": "execute_result"
    },
    {
     "data": {
      "image/png": "[encoded data removed]",
      "text/plain": [
       "<Figure size 432x288 with 1 Axes>"
      ]
     },
     "metadata": {
      "needs_background": "light"
     },
     "output_type": "display_data"
    }
   ],
   "source": [
    "plt.plot(result_topPB, label='Quality')\n",
    "plt.plot(result_bottomPB, label='Junk')\n",
    "plt.legend()"
   ]
  },
  {
   "cell_type": "code",
   "execution_count": 133,
   "metadata": {},
   "outputs": [],
   "source": [
    "result_val_18 = pd.DataFrame({'Quality':result_topPB[:], 'Junk':result_bottomPB[:]})\n",
    "result_val_18.to_csv('result_val_18.csv')"
   ]
  },
  {
   "cell_type": "markdown",
   "metadata": {},
   "source": [
    "P/E calculations"
   ]
  },
  {
   "cell_type": "code",
   "execution_count": 134,
   "metadata": {},
   "outputs": [
    {
     "name": "stdout",
     "output_type": "stream",
     "text": [
      "[63.19295611272148, 63.95740120636672, 57.53904900737283, 58.261175149220364, 80.13994399911974, 83.21690624113438, 134.85777294611663, 116.6902608578449, 72.42944693076397, 12.117575998524623, inf, 44.549728109878835, 45.68226860549604, 76.73879695940833, 54.280945851884894, 75.03722375317497, 79.18687306185814, 86.24576718726706, 86.04511473905917, 75.16253894702673, 102.14664320643907, 95.08006159150627, -1.2066716040261567, 85.97365703639598, 100.43879305451696, 75.25310617918193, 74.62710672863909, inf, 109.40314922986451, 128.6184871462237, 205.03412913323126, -142.95298707274318, 73.64270314756251, 105.8966186188646, 117.70840429556429, 151.61867529413144]\n"
     ]
    }
   ],
   "source": [
    "for i in range(len(dates)-36, len(dates)):\n",
    "    PE = df_pe.rename(index=str, columns={'Unnd: 0':'stock'}).set_index('stock').loc[tops[i]][dates[i]]\n",
    "    PE = PE.astype(float)\n",
    "    percent = mkt_cap.rename(index=str, columns={'Unnd: 0':'stock'}).set_index('stock').loc[tops[i]][dates[i]]\n",
    "    percent = percent.astype(float)\n",
    "    result_topPE.append((PE * percent / percent.sum()).sum())\n",
    "\n",
    "print(result_topPE)"
   ]
  },
  {
   "cell_type": "code",
   "execution_count": 135,
   "metadata": {},
   "outputs": [],
   "source": [
    "for i in range(len(dates)-36, len(dates)):\n",
    "    PE = df_pe.rename(index=str, columns={'Unnd: 0':'stock'}).set_index('stock').loc[bottoms[i]][dates[i]]\n",
    "    result_bottomPE.append((returns * percent / percent.sum()).sum())"
   ]
  },
  {
   "cell_type": "code",
   "execution_count": 136,
   "metadata": {},
   "outputs": [
    {
     "data": {
      "text/plain": [
       "<matplotlib.legend.Legend at 0x7f4ddf4e4dd8>"
      ]
     },
     "execution_count": 136,
     "metadata": {},
     "output_type": "execute_result"
    },
    {
     "data": {
      "image/png": "[encoded data removed]",
      "text/plain": [
       "<Figure size 432x288 with 1 Axes>"
      ]
     },
     "metadata": {
      "needs_background": "light"
     },
     "output_type": "display_data"
    }
   ],
   "source": [
    "plt.plot(result_topPE, label='Quality')\n",
    "plt.plot(result_bottomPE, label='Junk')\n",
    "plt.legend()"
   ]
  },
  {
   "cell_type": "markdown",
   "metadata": {},
   "source": [
    "2003-2009"
   ]
  },
  {
   "cell_type": "code",
   "execution_count": 137,
   "metadata": {},
   "outputs": [
    {
     "data": {
      "text/plain": [
       "'3/2003'"
      ]
     },
     "execution_count": 137,
     "metadata": {},
     "output_type": "execute_result"
    }
   ],
   "source": [
    "dates[len(dates) - 36]\n",
    "dates[len(dates) - 64]"
   ]
  },
  {
   "cell_type": "code",
   "execution_count": 138,
   "metadata": {},
   "outputs": [
    {
     "data": {
      "text/plain": [
       "<matplotlib.legend.Legend at 0x7f4ddf4ba588>"
      ]
     },
     "execution_count": 138,
     "metadata": {},
     "output_type": "execute_result"
    },
    {
     "data": {
      "image/png": "[encoded data removed]",
      "text/plain": [
       "<Figure size 432x288 with 1 Axes>"
      ]
     },
     "metadata": {
      "needs_background": "light"
     },
     "output_type": "display_data"
    }
   ],
   "source": [
    "result_top = []\n",
    "result_bottom = []\n",
    "result_market = []\n",
    "result_topPB = []\n",
    "result_bottomPB = []\n",
    "\n",
    "for i in range(len(dates) - 64, len(dates) - 36):\n",
    "    returns = df_tot_return.rename(index=str, columns={'Unnd: 0':'stock'}).set_index('stock').loc[tops[i]][dates[i]]\n",
    "    percent = mkt_cap.rename(index=str, columns={'Unnd: 0':'stock'}).set_index('stock').loc[tops[i]][dates[i]]\n",
    "    result_top.append((returns * percent / percent.sum()).sum())    \n",
    "\n",
    "for i in range(len(result_top)):\n",
    "    denominator = result_top[0]\n",
    "    result_top[:] = result_top[:]/denominator\n",
    "    \n",
    "for i in range(len(dates) - 64, len(dates) - 36):\n",
    "    returns = df_tot_return.rename(index=str, columns={'Unnd: 0':'stock'}).set_index('stock').loc[bottoms[i]][dates[i]]\n",
    "    percent = mkt_cap.rename(index=str, columns={'Unnd: 0':'stock'}).set_index('stock').loc[bottoms[i]][dates[i]]\n",
    "    result_bottom.append((returns * percent / percent.sum()).sum())\n",
    "    \n",
    "for i in range(len(result_bottom)):\n",
    "    denominator = result_bottom[0]\n",
    "    result_bottom[:] = result_bottom[:]/denominator\n",
    "    \n",
    "for i in range(len(dates) - 64, len(dates) - 36):\n",
    "    returns = df_tot_return.rename(index=str, columns={'Unnd: 0':'stock'}).set_index('stock').loc[markets[i]][dates[i]]\n",
    "    percent = mkt_cap.rename(index=str, columns={'Unnd: 0':'stock'}).set_index('stock').loc[markets[i]][dates[i]]\n",
    "    result_market.append((returns * percent / percent.sum()).sum())\n",
    "    \n",
    "for i in range(len(result_market)):\n",
    "    denominator = result_market[0]\n",
    "    result_market[:] = result_market[:]/denominator\n",
    "    \n",
    "plt.plot(result_top, label='Quality')\n",
    "plt.plot(result_bottom, label='Junk')\n",
    "plt.plot(result_market, label='Market', marker = '', color = 'olive', linewidth=2, linestyle='dashed')\n",
    "plt.legend()"
   ]
  },
  {
   "cell_type": "code",
   "execution_count": 139,
   "metadata": {},
   "outputs": [],
   "source": [
    "result_09 = pd.DataFrame({'top':result_top[:],'market':result_market[:], 'bottom':result_bottom[:]})\n",
    "result_09.to_csv('result_09.csv')"
   ]
  },
  {
   "cell_type": "code",
   "execution_count": 1,
   "metadata": {},
   "outputs": [
    {
     "ename": "NameError",
     "evalue": "name 'dates' is not defined",
     "output_type": "error",
     "traceback": [
      "\u001b[0;31m---------------------------------------------------------------------------\u001b[0m",
      "\u001b[0;31mNameError\u001b[0m                                 Traceback (most recent call last)",
      "\u001b[0;32m<ipython-input-1-688517fd642a>\u001b[0m in \u001b[0;36m<module>\u001b[0;34m()\u001b[0m\n\u001b[0;32m----> 1\u001b[0;31m \u001b[0;32mfor\u001b[0m \u001b[0mi\u001b[0m \u001b[0;32min\u001b[0m \u001b[0mrange\u001b[0m\u001b[0;34m(\u001b[0m\u001b[0mlen\u001b[0m\u001b[0;34m(\u001b[0m\u001b[0mdates\u001b[0m\u001b[0;34m)\u001b[0m \u001b[0;34m-\u001b[0m \u001b[0;36m64\u001b[0m\u001b[0;34m,\u001b[0m \u001b[0mlen\u001b[0m\u001b[0;34m(\u001b[0m\u001b[0mdates\u001b[0m\u001b[0;34m)\u001b[0m \u001b[0;34m-\u001b[0m \u001b[0;36m36\u001b[0m\u001b[0;34m)\u001b[0m\u001b[0;34m:\u001b[0m\u001b[0;34m\u001b[0m\u001b[0m\n\u001b[0m\u001b[1;32m      2\u001b[0m     \u001b[0mPB\u001b[0m \u001b[0;34m=\u001b[0m \u001b[0mdf_pb\u001b[0m\u001b[0;34m.\u001b[0m\u001b[0mrename\u001b[0m\u001b[0;34m(\u001b[0m\u001b[0mindex\u001b[0m\u001b[0;34m=\u001b[0m\u001b[0mstr\u001b[0m\u001b[0;34m,\u001b[0m \u001b[0mcolumns\u001b[0m\u001b[0;34m=\u001b[0m\u001b[0;34m{\u001b[0m\u001b[0;34m'Unnd: 0'\u001b[0m\u001b[0;34m:\u001b[0m\u001b[0;34m'stock'\u001b[0m\u001b[0;34m}\u001b[0m\u001b[0;34m)\u001b[0m\u001b[0;34m.\u001b[0m\u001b[0mset_index\u001b[0m\u001b[0;34m(\u001b[0m\u001b[0;34m'stock'\u001b[0m\u001b[0;34m)\u001b[0m\u001b[0;34m.\u001b[0m\u001b[0mloc\u001b[0m\u001b[0;34m[\u001b[0m\u001b[0mtops\u001b[0m\u001b[0;34m[\u001b[0m\u001b[0mi\u001b[0m\u001b[0;34m]\u001b[0m\u001b[0;34m]\u001b[0m\u001b[0;34m[\u001b[0m\u001b[0mdates\u001b[0m\u001b[0;34m[\u001b[0m\u001b[0mi\u001b[0m\u001b[0;34m]\u001b[0m\u001b[0;34m]\u001b[0m\u001b[0;34m\u001b[0m\u001b[0m\n\u001b[1;32m      3\u001b[0m     \u001b[0mpercent\u001b[0m \u001b[0;34m=\u001b[0m \u001b[0mmkt_cap\u001b[0m\u001b[0;34m.\u001b[0m\u001b[0mrename\u001b[0m\u001b[0;34m(\u001b[0m\u001b[0mindex\u001b[0m\u001b[0;34m=\u001b[0m\u001b[0mstr\u001b[0m\u001b[0;34m,\u001b[0m \u001b[0mcolumns\u001b[0m\u001b[0;34m=\u001b[0m\u001b[0;34m{\u001b[0m\u001b[0;34m'Unnd: 0'\u001b[0m\u001b[0;34m:\u001b[0m\u001b[0;34m'stock'\u001b[0m\u001b[0;34m}\u001b[0m\u001b[0;34m)\u001b[0m\u001b[0;34m.\u001b[0m\u001b[0mset_index\u001b[0m\u001b[0;34m(\u001b[0m\u001b[0;34m'stock'\u001b[0m\u001b[0;34m)\u001b[0m\u001b[0;34m.\u001b[0m\u001b[0mloc\u001b[0m\u001b[0;34m[\u001b[0m\u001b[0mtops\u001b[0m\u001b[0;34m[\u001b[0m\u001b[0mi\u001b[0m\u001b[0;34m]\u001b[0m\u001b[0;34m]\u001b[0m\u001b[0;34m[\u001b[0m\u001b[0mdates\u001b[0m\u001b[0;34m[\u001b[0m\u001b[0mi\u001b[0m\u001b[0;34m]\u001b[0m\u001b[0;34m]\u001b[0m\u001b[0;34m\u001b[0m\u001b[0m\n\u001b[1;32m      4\u001b[0m     \u001b[0mPB\u001b[0m \u001b[0;34m=\u001b[0m \u001b[0mPB\u001b[0m\u001b[0;34m.\u001b[0m\u001b[0mastype\u001b[0m\u001b[0;34m(\u001b[0m\u001b[0mfloat\u001b[0m\u001b[0;34m)\u001b[0m\u001b[0;34m\u001b[0m\u001b[0m\n\u001b[1;32m      5\u001b[0m     \u001b[0mpercent\u001b[0m \u001b[0;34m=\u001b[0m \u001b[0mpercent\u001b[0m\u001b[0;34m.\u001b[0m\u001b[0mastype\u001b[0m\u001b[0;34m(\u001b[0m\u001b[0mfloat\u001b[0m\u001b[0;34m)\u001b[0m\u001b[0;34m\u001b[0m\u001b[0m\n",
      "\u001b[0;31mNameError\u001b[0m: name 'dates' is not defined"
     ]
    }
   ],
   "source": [
    "for i in range(len(dates) - 64, len(dates) - 36):\n",
    "    PB = df_pb.rename(index=str, columns={'Unnd: 0':'stock'}).set_index('stock').loc[tops[i]][dates[i]]\n",
    "    percent = mkt_cap.rename(index=str, columns={'Unnd: 0':'stock'}).set_index('stock').loc[tops[i]][dates[i]]\n",
    "    PB = PB.astype(float)\n",
    "    percent = percent.astype(float)\n",
    "    result_topPB.append((PB * percent / percent.sum()).sum())\n",
    "    \n",
    "for i in range(len(dates) - 64, len(dates) - 36):\n",
    "    PB = df_pb.rename(index=str, columns={'Unnd: 0':'stock'}).set_index('stock').loc[bottoms[i]][dates[i]]\n",
    "    percent = mkt_cap.rename(index=str, columns={'Unnd: 0':'stock'}).set_index('stock').loc[bottoms[i]][dates[i]]\n",
    "    PB = PB.astype(float)\n",
    "    percent = percent.astype(float)\n",
    "    result_bottomPB.append((PB * percent / percent.sum()).sum())\n",
    "    \n",
    "plt.plot(result_topPB, label='top')\n",
    "plt.plot(result_bottomPB, label='bottom')\n",
    "plt.legend()"
   ]
  },
  {
   "cell_type": "markdown",
   "metadata": {},
   "source": [
    "2000 - 2002"
   ]
  },
  {
   "cell_type": "code",
   "execution_count": 141,
   "metadata": {},
   "outputs": [
    {
     "data": {
      "text/plain": [
       "'6/1996'"
      ]
     },
     "execution_count": 141,
     "metadata": {},
     "output_type": "execute_result"
    }
   ],
   "source": [
    "dates[len(dates)-91]"
   ]
  },
  {
   "cell_type": "code",
   "execution_count": 142,
   "metadata": {},
   "outputs": [
    {
     "data": {
      "text/plain": [
       "(95, 100)"
      ]
     },
     "execution_count": 142,
     "metadata": {},
     "output_type": "execute_result"
    }
   ],
   "source": [
    "tops.shape"
   ]
  },
  {
   "cell_type": "code",
   "execution_count": 143,
   "metadata": {},
   "outputs": [
    {
     "data": {
      "text/plain": [
       "<matplotlib.legend.Legend at 0x7f4ddf44eb38>"
      ]
     },
     "execution_count": 143,
     "metadata": {},
     "output_type": "execute_result"
    },
    {
     "data": {
      "image/png": "[encoded data removed]",
      "text/plain": [
       "<Figure size 432x288 with 1 Axes>"
      ]
     },
     "metadata": {
      "needs_background": "light"
     },
     "output_type": "display_data"
    }
   ],
   "source": [
    "result_top = []\n",
    "result_bottom = []\n",
    "result_market = []\n",
    "result_topPB = []\n",
    "result_bottomPB = []\n",
    "\n",
    "for i in range(len(dates)-92, len(dates)-64):\n",
    "    returns = df_tot_return.rename(index=str, columns={'Unnd: 0':'stock'}).set_index('stock').loc[tops[i]][dates[i]]\n",
    "    percent = mkt_cap.rename(index=str, columns={'Unnd: 0':'stock'}).set_index('stock').loc[tops[i]][dates[i]]\n",
    "    percent = percent.astype(float)\n",
    "    result_top.append((returns * percent / percent.sum()).sum())\n",
    "\n",
    "for i in range(len(dates)-92, len(dates)-64):\n",
    "    returns = df_tot_return.rename(index=str, columns={'Unnd: 0':'stock'}).set_index('stock').loc[bottoms[i]][dates[i]]\n",
    "    percent = mkt_cap.rename(index=str, columns={'Unnd: 0':'stock'}).set_index('stock').loc[bottoms[i]][dates[i]]\n",
    "    percent = percent.astype(float)\n",
    "    result_bottom.append((returns * percent / percent.sum()).sum())\n",
    "    \n",
    "for i in range(len(dates)-92, len(dates)-64):\n",
    "    returns = df_tot_return.rename(index=str, columns={'Unnd: 0':'stock'}).set_index('stock').loc[markets[i]][dates[i]]\n",
    "    percent = mkt_cap.rename(index=str, columns={'Unnd: 0':'stock'}).set_index('stock').loc[markets[i]][dates[i]]\n",
    "    percent = percent.astype(float)\n",
    "    result_market.append((returns * percent / percent.sum()).sum())\n",
    "\n",
    "for i in range(len(result_top)):\n",
    "    denominator = result_top[0]\n",
    "    result_top[:] = result_top[:]/denominator\n",
    "    \n",
    "for i in range(len(result_market)):\n",
    "    denominator = result_market[0]\n",
    "    result_market[:] = result_market[:]/denominator\n",
    "    \n",
    "for i in range(len(result_bottom)):\n",
    "    denominator = result_bottom[0]\n",
    "    result_bottom[:] = result_bottom[:]/denominator\n",
    "    \n",
    "\n",
    "plt.plot(result_top, label='Quality')\n",
    "plt.plot(result_bottom, label='Junk')\n",
    "plt.plot(result_market, label='Market', marker = '', color = 'olive', linewidth=2, linestyle='dashed')\n",
    "plt.legend()"
   ]
  },
  {
   "cell_type": "code",
   "execution_count": 144,
   "metadata": {},
   "outputs": [],
   "source": [
    "result_00 = pd.DataFrame({'top':result_top[:],'market':result_market[:], 'bottom':result_bottom[:]})\n",
    "result_00.to_csv('result_00.csv')"
   ]
  },
  {
   "cell_type": "code",
   "execution_count": 145,
   "metadata": {},
   "outputs": [
    {
     "data": {
      "text/plain": [
       "<matplotlib.legend.Legend at 0x7f4ddf40fe10>"
      ]
     },
     "execution_count": 145,
     "metadata": {},
     "output_type": "execute_result"
    },
    {
     "data": {
      "image/png": "[encoded data removed]",
      "text/plain": [
       "<Figure size 432x288 with 1 Axes>"
      ]
     },
     "metadata": {
      "needs_background": "light"
     },
     "output_type": "display_data"
    }
   ],
   "source": [
    "for i in range(len(dates) - 92, len(dates) - 64):\n",
    "    PB = df_pb.rename(index=str, columns={'Unnd: 0':'stock'}).set_index('stock').loc[tops[i]][dates[i]]\n",
    "    percent = mkt_cap.rename(index=str, columns={'Unnd: 0':'stock'}).set_index('stock').loc[tops[i]][dates[i]]\n",
    "    PB = PB.astype(float)\n",
    "    percent = percent.astype(float)\n",
    "    result_topPB.append((PB * percent / percent.sum()).sum())\n",
    "    \n",
    "for i in range(len(dates) - 92, len(dates) - 64):\n",
    "    PB = df_pb.rename(index=str, columns={'Unnd: 0':'stock'}).set_index('stock').loc[bottoms[i]][dates[i]]\n",
    "    percent = mkt_cap.rename(index=str, columns={'Unnd: 0':'stock'}).set_index('stock').loc[bottoms[i]][dates[i]]\n",
    "    PB = PB.astype(float)\n",
    "    percent = percent.astype(float)\n",
    "    result_bottomPB.append((PB * percent / percent.sum()).sum())\n",
    "    \n",
    "plt.plot(result_topPB, label='top')\n",
    "plt.plot(result_bottomPB, label='bottom')\n",
    "plt.legend()"
   ]
  }
 ],
 "metadata": {
  "kernelspec": {
   "display_name": "Python 3",
   "language": "python",
   "name": "python3"
  },
  "language_info": {
   "codemirror_mode": {
    "name": "ipython",
    "version": 3
   },
   "file_extension": ".py",
   "mimetype": "text/x-python",
   "name": "python",
   "nbconvert_exporter": "python",
   "pygments_lexer": "ipython3",
   "version": "3.5.6"
  }
 },
 "nbformat": 4,
 "nbformat_minor": 2
}
